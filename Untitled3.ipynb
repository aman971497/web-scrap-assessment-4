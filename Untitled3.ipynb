{
 "cells": [
  {
   "cell_type": "code",
   "execution_count": 2,
   "id": "8c48b367",
   "metadata": {},
   "outputs": [
    {
     "name": "stdout",
     "output_type": "stream",
     "text": [
      "Requirement already satisfied: bs4 in c:\\users\\aman9\\anaconda3\\lib\\site-packages (0.0.1)\n",
      "Requirement already satisfied: beautifulsoup4 in c:\\users\\aman9\\anaconda3\\lib\\site-packages (from bs4) (4.12.2)\n",
      "Requirement already satisfied: soupsieve>1.2 in c:\\users\\aman9\\anaconda3\\lib\\site-packages (from beautifulsoup4->bs4) (2.4)\n"
     ]
    }
   ],
   "source": [
    "!pip install bs4\n"
   ]
  },
  {
   "cell_type": "code",
   "execution_count": 3,
   "id": "14e9072d",
   "metadata": {
    "scrolled": true
   },
   "outputs": [
    {
     "name": "stdout",
     "output_type": "stream",
     "text": [
      "Rank: \"Baby Shark Dance\"[6], Name: Pinkfong Baby Shark - Kids' Songs & Stories, Artist: 7,046,700,000, Upload Date: November 2, 2020, Views: June 17, 2016\n",
      "Rank: \"Despacito\"[9], Name: Luis Fonsi, Artist: 2,993,700,000, Upload Date: August 4, 2017, Views: January 12, 2017\n",
      "Rank: \"See You Again\"[22], Name: Wiz Khalifa, Artist: 2,894,000,000, Upload Date: July 10, 2017, Views: April 6, 2015\n",
      "Rank: \"Gangnam Style\"⁂[31], Name: Psy, Artist: 803,700,000, Upload Date: November 24, 2012, Views: July 15, 2012\n",
      "Rank: \"Baby\"*[66], Name: Justin Bieber, Artist: 245,400,000, Upload Date: July 16, 2010, Views: February 19, 2010\n",
      "Rank: \"Bad Romance\"[70], Name: Lady Gaga, Artist: 178,400,000, Upload Date: April 14, 2010, Views: November 24, 2009\n",
      "Rank: \"Charlie Bit My Finger\"‡[74], Name: HDCYT, Artist: 128,900,000, Upload Date: October 25, 2009, Views: May 22, 2007\n",
      "Rank: \"Evolution of Dance\"[77], Name: Judson Laipply, Artist: 118,900,000, Upload Date: May 2, 2009, Views: April 6, 2006\n",
      "Rank: \"Girlfriend\"‡[79][80], Name: RCA Records, Artist: 92,600,000, Upload Date: July 17, 2008, Views: February 27, 2007\n",
      "Rank: \"Evolution of Dance\"[77], Name: Judson Laipply, Artist: 78,400,000, Upload Date: March 15, 2008, Views: April 6, 2006\n",
      "Rank: \"Music Is My Hot Hot Sex\"‡[85], Name: CLARUSBARTEL72, Artist: 76,600,000, Upload Date: March 1, 2008, Views: April 9, 2007\n",
      "Rank: \"Evolution of Dance\"*[77], Name: Judson Laipply, Artist: 10,600,000, Upload Date: May 19, 2006, Views: April 6, 2006\n",
      "Rank: \"Pokémon Theme Music Video\"‡[90], Name: Smosh, Artist: 4,300,000, Upload Date: March 12, 2006, Views: November 28, 2005\n",
      "Rank: \"Myspace – The Movie\"‡[95][96], Name: eggtea, Artist: 2,700,000, Upload Date: February 18, 2006, Views: January 31, 2006\n",
      "Rank: \"Phony Photo Booth\"‡[99], Name: mugenized, Artist: 3,400,000, Upload Date: January 21, 2006, Views: December 1, 2005\n",
      "Rank: \"The Chronic of Narnia Rap\"‡[105], Name: youtubedude, Artist: 2,300,000, Upload Date: January 9, 2006, Views: December 18, 2005\n",
      "Rank: \"Ronaldinho: Touch of Gold\"‡*[108], Name: Nikesoccer, Artist: 255,000, Upload Date: October 31, 2005, Views: October 21, 2005\n",
      "Rank: \"I/O Brush\"‡*[114], Name: larfus, Artist: 247,000, Upload Date: October 29, 2005, Views: October 5, 2005\n"
     ]
    }
   ],
   "source": [
    "from selenium import webdriver\n",
    "from selenium.webdriver.common.by import By\n",
    "\n",
    "# Open the URL in a web browser\n",
    "driver = webdriver.Chrome()\n",
    "driver.get(\"https://en.wikipedia.org/wiki/List_of_most-viewed_YouTube_videos\")\n",
    "\n",
    "# Find the table that contains the details of the most viewed videos on YouTube\n",
    "table = driver.find_element(By.XPATH, \"//table[@class='wikitable sortable jquery-tablesorter']\")\n",
    "rows = table.find_elements(By.TAG_NAME, \"tr\")\n",
    "\n",
    "# Extract the data from the table\n",
    "for row in rows:\n",
    "    cells = row.find_elements(By.TAG_NAME, \"td\")\n",
    "    if len(cells) > 0:\n",
    "        rank = cells[0].text\n",
    "        name = cells[1].text\n",
    "        artist = cells[2].text\n",
    "        upload_date = cells[4].text\n",
    "        views = cells[3].text\n",
    "        print(f\"Rank: {rank}, Name: {name}, Artist: {artist}, Upload Date: {upload_date}, Views: {views}\")\n"
   ]
  },
  {
   "cell_type": "code",
   "execution_count": 4,
   "id": "dd8bc2d4",
   "metadata": {},
   "outputs": [
    {
     "ename": "NoSuchElementException",
     "evalue": "Message: no such element: Unable to locate element: {\"method\":\"xpath\",\"selector\":\"//a[@href='/international/fixtures']\"}\n  (Session info: chrome=120.0.6099.110); For documentation on this error, please visit: https://www.selenium.dev/documentation/webdriver/troubleshooting/errors#no-such-element-exception\nStacktrace:\n\tGetHandleVerifier [0x00007FF7FF0D2142+3514994]\n\t(No symbol) [0x00007FF7FECF0CE2]\n\t(No symbol) [0x00007FF7FEB976AA]\n\t(No symbol) [0x00007FF7FEBE1860]\n\t(No symbol) [0x00007FF7FEBE197C]\n\t(No symbol) [0x00007FF7FEC24EE7]\n\t(No symbol) [0x00007FF7FEC0602F]\n\t(No symbol) [0x00007FF7FEC228F6]\n\t(No symbol) [0x00007FF7FEC05D93]\n\t(No symbol) [0x00007FF7FEBD4BDC]\n\t(No symbol) [0x00007FF7FEBD5C64]\n\tGetHandleVerifier [0x00007FF7FF0FE16B+3695259]\n\tGetHandleVerifier [0x00007FF7FF156737+4057191]\n\tGetHandleVerifier [0x00007FF7FF14E4E3+4023827]\n\tGetHandleVerifier [0x00007FF7FEE204F9+689705]\n\t(No symbol) [0x00007FF7FECFC048]\n\t(No symbol) [0x00007FF7FECF8044]\n\t(No symbol) [0x00007FF7FECF81C9]\n\t(No symbol) [0x00007FF7FECE88C4]\n\tBaseThreadInitThunk [0x00007FFEC7D47344+20]\n\tRtlUserThreadStart [0x00007FFEC88826B1+33]\n",
     "output_type": "error",
     "traceback": [
      "\u001b[1;31m---------------------------------------------------------------------------\u001b[0m",
      "\u001b[1;31mNoSuchElementException\u001b[0m                    Traceback (most recent call last)",
      "Cell \u001b[1;32mIn[4], line 9\u001b[0m\n\u001b[0;32m      6\u001b[0m driver\u001b[38;5;241m.\u001b[39mget(\u001b[38;5;124m\"\u001b[39m\u001b[38;5;124mhttps://www.bcci.tv/\u001b[39m\u001b[38;5;124m\"\u001b[39m)\n\u001b[0;32m      8\u001b[0m \u001b[38;5;66;03m# Find the link that leads to the international fixture page\u001b[39;00m\n\u001b[1;32m----> 9\u001b[0m link \u001b[38;5;241m=\u001b[39m driver\u001b[38;5;241m.\u001b[39mfind_element(By\u001b[38;5;241m.\u001b[39mXPATH, \u001b[38;5;124m\"\u001b[39m\u001b[38;5;124m//a[@href=\u001b[39m\u001b[38;5;124m'\u001b[39m\u001b[38;5;124m/international/fixtures\u001b[39m\u001b[38;5;124m'\u001b[39m\u001b[38;5;124m]\u001b[39m\u001b[38;5;124m\"\u001b[39m)\n\u001b[0;32m     10\u001b[0m link\u001b[38;5;241m.\u001b[39mclick()\n\u001b[0;32m     12\u001b[0m \u001b[38;5;66;03m# Extract the data from the table\u001b[39;00m\n",
      "File \u001b[1;32m~\\anaconda3\\Lib\\site-packages\\selenium\\webdriver\\remote\\webdriver.py:742\u001b[0m, in \u001b[0;36mWebDriver.find_element\u001b[1;34m(self, by, value)\u001b[0m\n\u001b[0;32m    739\u001b[0m     by \u001b[38;5;241m=\u001b[39m By\u001b[38;5;241m.\u001b[39mCSS_SELECTOR\n\u001b[0;32m    740\u001b[0m     value \u001b[38;5;241m=\u001b[39m \u001b[38;5;124mf\u001b[39m\u001b[38;5;124m'\u001b[39m\u001b[38;5;124m[name=\u001b[39m\u001b[38;5;124m\"\u001b[39m\u001b[38;5;132;01m{\u001b[39;00mvalue\u001b[38;5;132;01m}\u001b[39;00m\u001b[38;5;124m\"\u001b[39m\u001b[38;5;124m]\u001b[39m\u001b[38;5;124m'\u001b[39m\n\u001b[1;32m--> 742\u001b[0m \u001b[38;5;28;01mreturn\u001b[39;00m \u001b[38;5;28mself\u001b[39m\u001b[38;5;241m.\u001b[39mexecute(Command\u001b[38;5;241m.\u001b[39mFIND_ELEMENT, {\u001b[38;5;124m\"\u001b[39m\u001b[38;5;124musing\u001b[39m\u001b[38;5;124m\"\u001b[39m: by, \u001b[38;5;124m\"\u001b[39m\u001b[38;5;124mvalue\u001b[39m\u001b[38;5;124m\"\u001b[39m: value})[\u001b[38;5;124m\"\u001b[39m\u001b[38;5;124mvalue\u001b[39m\u001b[38;5;124m\"\u001b[39m]\n",
      "File \u001b[1;32m~\\anaconda3\\Lib\\site-packages\\selenium\\webdriver\\remote\\webdriver.py:348\u001b[0m, in \u001b[0;36mWebDriver.execute\u001b[1;34m(self, driver_command, params)\u001b[0m\n\u001b[0;32m    346\u001b[0m response \u001b[38;5;241m=\u001b[39m \u001b[38;5;28mself\u001b[39m\u001b[38;5;241m.\u001b[39mcommand_executor\u001b[38;5;241m.\u001b[39mexecute(driver_command, params)\n\u001b[0;32m    347\u001b[0m \u001b[38;5;28;01mif\u001b[39;00m response:\n\u001b[1;32m--> 348\u001b[0m     \u001b[38;5;28mself\u001b[39m\u001b[38;5;241m.\u001b[39merror_handler\u001b[38;5;241m.\u001b[39mcheck_response(response)\n\u001b[0;32m    349\u001b[0m     response[\u001b[38;5;124m\"\u001b[39m\u001b[38;5;124mvalue\u001b[39m\u001b[38;5;124m\"\u001b[39m] \u001b[38;5;241m=\u001b[39m \u001b[38;5;28mself\u001b[39m\u001b[38;5;241m.\u001b[39m_unwrap_value(response\u001b[38;5;241m.\u001b[39mget(\u001b[38;5;124m\"\u001b[39m\u001b[38;5;124mvalue\u001b[39m\u001b[38;5;124m\"\u001b[39m, \u001b[38;5;28;01mNone\u001b[39;00m))\n\u001b[0;32m    350\u001b[0m     \u001b[38;5;28;01mreturn\u001b[39;00m response\n",
      "File \u001b[1;32m~\\anaconda3\\Lib\\site-packages\\selenium\\webdriver\\remote\\errorhandler.py:229\u001b[0m, in \u001b[0;36mErrorHandler.check_response\u001b[1;34m(self, response)\u001b[0m\n\u001b[0;32m    227\u001b[0m         alert_text \u001b[38;5;241m=\u001b[39m value[\u001b[38;5;124m\"\u001b[39m\u001b[38;5;124malert\u001b[39m\u001b[38;5;124m\"\u001b[39m]\u001b[38;5;241m.\u001b[39mget(\u001b[38;5;124m\"\u001b[39m\u001b[38;5;124mtext\u001b[39m\u001b[38;5;124m\"\u001b[39m)\n\u001b[0;32m    228\u001b[0m     \u001b[38;5;28;01mraise\u001b[39;00m exception_class(message, screen, stacktrace, alert_text)  \u001b[38;5;66;03m# type: ignore[call-arg]  # mypy is not smart enough here\u001b[39;00m\n\u001b[1;32m--> 229\u001b[0m \u001b[38;5;28;01mraise\u001b[39;00m exception_class(message, screen, stacktrace)\n",
      "\u001b[1;31mNoSuchElementException\u001b[0m: Message: no such element: Unable to locate element: {\"method\":\"xpath\",\"selector\":\"//a[@href='/international/fixtures']\"}\n  (Session info: chrome=120.0.6099.110); For documentation on this error, please visit: https://www.selenium.dev/documentation/webdriver/troubleshooting/errors#no-such-element-exception\nStacktrace:\n\tGetHandleVerifier [0x00007FF7FF0D2142+3514994]\n\t(No symbol) [0x00007FF7FECF0CE2]\n\t(No symbol) [0x00007FF7FEB976AA]\n\t(No symbol) [0x00007FF7FEBE1860]\n\t(No symbol) [0x00007FF7FEBE197C]\n\t(No symbol) [0x00007FF7FEC24EE7]\n\t(No symbol) [0x00007FF7FEC0602F]\n\t(No symbol) [0x00007FF7FEC228F6]\n\t(No symbol) [0x00007FF7FEC05D93]\n\t(No symbol) [0x00007FF7FEBD4BDC]\n\t(No symbol) [0x00007FF7FEBD5C64]\n\tGetHandleVerifier [0x00007FF7FF0FE16B+3695259]\n\tGetHandleVerifier [0x00007FF7FF156737+4057191]\n\tGetHandleVerifier [0x00007FF7FF14E4E3+4023827]\n\tGetHandleVerifier [0x00007FF7FEE204F9+689705]\n\t(No symbol) [0x00007FF7FECFC048]\n\t(No symbol) [0x00007FF7FECF8044]\n\t(No symbol) [0x00007FF7FECF81C9]\n\t(No symbol) [0x00007FF7FECE88C4]\n\tBaseThreadInitThunk [0x00007FFEC7D47344+20]\n\tRtlUserThreadStart [0x00007FFEC88826B1+33]\n"
     ]
    }
   ],
   "source": [
    "from selenium import webdriver\n",
    "from selenium.webdriver.common.by import By\n",
    "\n",
    "# Open the URL in a web browser\n",
    "driver = webdriver.Chrome()\n",
    "driver.get(\"https://www.bcci.tv/\")\n",
    "\n",
    "# Find the link that leads to the international fixture page\n",
    "link = driver.find_element(By.XPATH, \"//a[@href='/international/fixtures']\")\n",
    "link.click()\n",
    "\n",
    "# Extract the data from the table\n",
    "table = driver.find_element(By.XPATH, \"//div[@class='js-list']/div[@class='fixture__format-list']\")\n",
    "rows = table.find_elements(By.TAG_NAME, \"div\")\n",
    "\n",
    "for row in rows:\n",
    "    series = row.find_element(By.XPATH, \".//span[@class='u-unskewed-text fixture__tournament-label u-truncated']\")\n",
    "    place = row.find_element(By.XPATH, \".//p[@class='fixture__additional-info']/span\")\n",
    "    date = row.find_element(By.XPATH, \".//div[@class='fixture__full-date']\")\n",
    "    time = row.find_element(By.XPATH, \".//div[@class='fixture__date-details']/span\")\n",
    "\n",
    "    print(f\"Series: {series.text}, Place: {place.text}, Date: {date.text}, Time: {time.text}\")\n"
   ]
  },
  {
   "cell_type": "code",
   "execution_count": 5,
   "id": "58e3863e",
   "metadata": {},
   "outputs": [
    {
     "name": "stdout",
     "output_type": "stream",
     "text": [
      "Link not found\n"
     ]
    },
    {
     "ename": "NoSuchElementException",
     "evalue": "Message: no such element: Unable to locate element: {\"method\":\"xpath\",\"selector\":\"//div[@class='js-list']/div[@class='fixture__format-list']\"}\n  (Session info: chrome=120.0.6099.110); For documentation on this error, please visit: https://www.selenium.dev/documentation/webdriver/troubleshooting/errors#no-such-element-exception\nStacktrace:\n\tGetHandleVerifier [0x00007FF7FF0D2142+3514994]\n\t(No symbol) [0x00007FF7FECF0CE2]\n\t(No symbol) [0x00007FF7FEB976AA]\n\t(No symbol) [0x00007FF7FEBE1860]\n\t(No symbol) [0x00007FF7FEBE197C]\n\t(No symbol) [0x00007FF7FEC24EE7]\n\t(No symbol) [0x00007FF7FEC0602F]\n\t(No symbol) [0x00007FF7FEC228F6]\n\t(No symbol) [0x00007FF7FEC05D93]\n\t(No symbol) [0x00007FF7FEBD4BDC]\n\t(No symbol) [0x00007FF7FEBD5C64]\n\tGetHandleVerifier [0x00007FF7FF0FE16B+3695259]\n\tGetHandleVerifier [0x00007FF7FF156737+4057191]\n\tGetHandleVerifier [0x00007FF7FF14E4E3+4023827]\n\tGetHandleVerifier [0x00007FF7FEE204F9+689705]\n\t(No symbol) [0x00007FF7FECFC048]\n\t(No symbol) [0x00007FF7FECF8044]\n\t(No symbol) [0x00007FF7FECF81C9]\n\t(No symbol) [0x00007FF7FECE88C4]\n\tBaseThreadInitThunk [0x00007FFEC7D47344+20]\n\tRtlUserThreadStart [0x00007FFEC88826B1+33]\n",
     "output_type": "error",
     "traceback": [
      "\u001b[1;31m---------------------------------------------------------------------------\u001b[0m",
      "\u001b[1;31mNoSuchElementException\u001b[0m                    Traceback (most recent call last)",
      "Cell \u001b[1;32mIn[5], line 17\u001b[0m\n\u001b[0;32m     14\u001b[0m     \u001b[38;5;28mprint\u001b[39m(\u001b[38;5;124m\"\u001b[39m\u001b[38;5;124mLink not found\u001b[39m\u001b[38;5;124m\"\u001b[39m)\n\u001b[0;32m     16\u001b[0m \u001b[38;5;66;03m# Extract the data from the table\u001b[39;00m\n\u001b[1;32m---> 17\u001b[0m table \u001b[38;5;241m=\u001b[39m driver\u001b[38;5;241m.\u001b[39mfind_element(By\u001b[38;5;241m.\u001b[39mXPATH, \u001b[38;5;124m\"\u001b[39m\u001b[38;5;124m//div[@class=\u001b[39m\u001b[38;5;124m'\u001b[39m\u001b[38;5;124mjs-list\u001b[39m\u001b[38;5;124m'\u001b[39m\u001b[38;5;124m]/div[@class=\u001b[39m\u001b[38;5;124m'\u001b[39m\u001b[38;5;124mfixture__format-list\u001b[39m\u001b[38;5;124m'\u001b[39m\u001b[38;5;124m]\u001b[39m\u001b[38;5;124m\"\u001b[39m)\n\u001b[0;32m     18\u001b[0m rows \u001b[38;5;241m=\u001b[39m table\u001b[38;5;241m.\u001b[39mfind_elements(By\u001b[38;5;241m.\u001b[39mTAG_NAME, \u001b[38;5;124m\"\u001b[39m\u001b[38;5;124mdiv\u001b[39m\u001b[38;5;124m\"\u001b[39m)\n\u001b[0;32m     20\u001b[0m \u001b[38;5;28;01mfor\u001b[39;00m row \u001b[38;5;129;01min\u001b[39;00m rows:\n",
      "File \u001b[1;32m~\\anaconda3\\Lib\\site-packages\\selenium\\webdriver\\remote\\webdriver.py:742\u001b[0m, in \u001b[0;36mWebDriver.find_element\u001b[1;34m(self, by, value)\u001b[0m\n\u001b[0;32m    739\u001b[0m     by \u001b[38;5;241m=\u001b[39m By\u001b[38;5;241m.\u001b[39mCSS_SELECTOR\n\u001b[0;32m    740\u001b[0m     value \u001b[38;5;241m=\u001b[39m \u001b[38;5;124mf\u001b[39m\u001b[38;5;124m'\u001b[39m\u001b[38;5;124m[name=\u001b[39m\u001b[38;5;124m\"\u001b[39m\u001b[38;5;132;01m{\u001b[39;00mvalue\u001b[38;5;132;01m}\u001b[39;00m\u001b[38;5;124m\"\u001b[39m\u001b[38;5;124m]\u001b[39m\u001b[38;5;124m'\u001b[39m\n\u001b[1;32m--> 742\u001b[0m \u001b[38;5;28;01mreturn\u001b[39;00m \u001b[38;5;28mself\u001b[39m\u001b[38;5;241m.\u001b[39mexecute(Command\u001b[38;5;241m.\u001b[39mFIND_ELEMENT, {\u001b[38;5;124m\"\u001b[39m\u001b[38;5;124musing\u001b[39m\u001b[38;5;124m\"\u001b[39m: by, \u001b[38;5;124m\"\u001b[39m\u001b[38;5;124mvalue\u001b[39m\u001b[38;5;124m\"\u001b[39m: value})[\u001b[38;5;124m\"\u001b[39m\u001b[38;5;124mvalue\u001b[39m\u001b[38;5;124m\"\u001b[39m]\n",
      "File \u001b[1;32m~\\anaconda3\\Lib\\site-packages\\selenium\\webdriver\\remote\\webdriver.py:348\u001b[0m, in \u001b[0;36mWebDriver.execute\u001b[1;34m(self, driver_command, params)\u001b[0m\n\u001b[0;32m    346\u001b[0m response \u001b[38;5;241m=\u001b[39m \u001b[38;5;28mself\u001b[39m\u001b[38;5;241m.\u001b[39mcommand_executor\u001b[38;5;241m.\u001b[39mexecute(driver_command, params)\n\u001b[0;32m    347\u001b[0m \u001b[38;5;28;01mif\u001b[39;00m response:\n\u001b[1;32m--> 348\u001b[0m     \u001b[38;5;28mself\u001b[39m\u001b[38;5;241m.\u001b[39merror_handler\u001b[38;5;241m.\u001b[39mcheck_response(response)\n\u001b[0;32m    349\u001b[0m     response[\u001b[38;5;124m\"\u001b[39m\u001b[38;5;124mvalue\u001b[39m\u001b[38;5;124m\"\u001b[39m] \u001b[38;5;241m=\u001b[39m \u001b[38;5;28mself\u001b[39m\u001b[38;5;241m.\u001b[39m_unwrap_value(response\u001b[38;5;241m.\u001b[39mget(\u001b[38;5;124m\"\u001b[39m\u001b[38;5;124mvalue\u001b[39m\u001b[38;5;124m\"\u001b[39m, \u001b[38;5;28;01mNone\u001b[39;00m))\n\u001b[0;32m    350\u001b[0m     \u001b[38;5;28;01mreturn\u001b[39;00m response\n",
      "File \u001b[1;32m~\\anaconda3\\Lib\\site-packages\\selenium\\webdriver\\remote\\errorhandler.py:229\u001b[0m, in \u001b[0;36mErrorHandler.check_response\u001b[1;34m(self, response)\u001b[0m\n\u001b[0;32m    227\u001b[0m         alert_text \u001b[38;5;241m=\u001b[39m value[\u001b[38;5;124m\"\u001b[39m\u001b[38;5;124malert\u001b[39m\u001b[38;5;124m\"\u001b[39m]\u001b[38;5;241m.\u001b[39mget(\u001b[38;5;124m\"\u001b[39m\u001b[38;5;124mtext\u001b[39m\u001b[38;5;124m\"\u001b[39m)\n\u001b[0;32m    228\u001b[0m     \u001b[38;5;28;01mraise\u001b[39;00m exception_class(message, screen, stacktrace, alert_text)  \u001b[38;5;66;03m# type: ignore[call-arg]  # mypy is not smart enough here\u001b[39;00m\n\u001b[1;32m--> 229\u001b[0m \u001b[38;5;28;01mraise\u001b[39;00m exception_class(message, screen, stacktrace)\n",
      "\u001b[1;31mNoSuchElementException\u001b[0m: Message: no such element: Unable to locate element: {\"method\":\"xpath\",\"selector\":\"//div[@class='js-list']/div[@class='fixture__format-list']\"}\n  (Session info: chrome=120.0.6099.110); For documentation on this error, please visit: https://www.selenium.dev/documentation/webdriver/troubleshooting/errors#no-such-element-exception\nStacktrace:\n\tGetHandleVerifier [0x00007FF7FF0D2142+3514994]\n\t(No symbol) [0x00007FF7FECF0CE2]\n\t(No symbol) [0x00007FF7FEB976AA]\n\t(No symbol) [0x00007FF7FEBE1860]\n\t(No symbol) [0x00007FF7FEBE197C]\n\t(No symbol) [0x00007FF7FEC24EE7]\n\t(No symbol) [0x00007FF7FEC0602F]\n\t(No symbol) [0x00007FF7FEC228F6]\n\t(No symbol) [0x00007FF7FEC05D93]\n\t(No symbol) [0x00007FF7FEBD4BDC]\n\t(No symbol) [0x00007FF7FEBD5C64]\n\tGetHandleVerifier [0x00007FF7FF0FE16B+3695259]\n\tGetHandleVerifier [0x00007FF7FF156737+4057191]\n\tGetHandleVerifier [0x00007FF7FF14E4E3+4023827]\n\tGetHandleVerifier [0x00007FF7FEE204F9+689705]\n\t(No symbol) [0x00007FF7FECFC048]\n\t(No symbol) [0x00007FF7FECF8044]\n\t(No symbol) [0x00007FF7FECF81C9]\n\t(No symbol) [0x00007FF7FECE88C4]\n\tBaseThreadInitThunk [0x00007FFEC7D47344+20]\n\tRtlUserThreadStart [0x00007FFEC88826B1+33]\n"
     ]
    }
   ],
   "source": [
    "from selenium import webdriver\n",
    "from selenium.webdriver.common.by import By\n",
    "from selenium.common.exceptions import NoSuchElementException\n",
    "\n",
    "# Open the URL in a web browser\n",
    "driver = webdriver.Chrome()\n",
    "driver.get(\"https://www.bcci.tv/\")\n",
    "\n",
    "# Find the link that leads to the international fixture page\n",
    "try:\n",
    "    link = driver.find_element(By.XPATH, \"//a[@href='/international/fixtures']\")\n",
    "    link.click()\n",
    "except NoSuchElementException:\n",
    "    print(\"Link not found\")\n",
    "\n",
    "# Extract the data from the table\n",
    "table = driver.find_element(By.XPATH, \"//div[@class='js-list']/div[@class='fixture__format-list']\")\n",
    "rows = table.find_elements(By.TAG_NAME, \"div\")\n",
    "\n",
    "for row in rows:\n",
    "    series = row.find_element(By.XPATH, \".//span[@class='u-unskewed-text fixture__tournament-label u-truncated']\")\n",
    "    place = row.find_element(By.XPATH, \".//p[@class='fixture__additional-info']/span\")\n",
    "    date = row.find_element(By.XPATH, \".//div[@class='fixture__full-date']\")\n",
    "    time = row.find_element(By.XPATH, \".//div[@class='fixture__date-details']/span\")\n",
    "\n",
    "    print(f\"Series: {series.text}, Place: {place.text}, Date: {date.text}, Time: {time.text}\")\n"
   ]
  },
  {
   "cell_type": "code",
   "execution_count": 6,
   "id": "e9a2d6d3",
   "metadata": {},
   "outputs": [
    {
     "name": "stdout",
     "output_type": "stream",
     "text": [
      "Requirement already satisfied: selenium in c:\\users\\aman9\\anaconda3\\lib\\site-packages (4.16.0)\n",
      "Requirement already satisfied: urllib3[socks]<3,>=1.26 in c:\\users\\aman9\\anaconda3\\lib\\site-packages (from selenium) (1.26.16)\n",
      "Requirement already satisfied: trio~=0.17 in c:\\users\\aman9\\anaconda3\\lib\\site-packages (from selenium) (0.23.1)\n",
      "Requirement already satisfied: trio-websocket~=0.9 in c:\\users\\aman9\\anaconda3\\lib\\site-packages (from selenium) (0.11.1)\n",
      "Requirement already satisfied: certifi>=2021.10.8 in c:\\users\\aman9\\anaconda3\\lib\\site-packages (from selenium) (2023.7.22)\n",
      "Requirement already satisfied: attrs>=20.1.0 in c:\\users\\aman9\\anaconda3\\lib\\site-packages (from trio~=0.17->selenium) (22.1.0)\n",
      "Requirement already satisfied: sortedcontainers in c:\\users\\aman9\\anaconda3\\lib\\site-packages (from trio~=0.17->selenium) (2.4.0)\n",
      "Requirement already satisfied: idna in c:\\users\\aman9\\anaconda3\\lib\\site-packages (from trio~=0.17->selenium) (3.4)\n",
      "Requirement already satisfied: outcome in c:\\users\\aman9\\anaconda3\\lib\\site-packages (from trio~=0.17->selenium) (1.3.0.post0)\n",
      "Requirement already satisfied: sniffio>=1.3.0 in c:\\users\\aman9\\anaconda3\\lib\\site-packages (from trio~=0.17->selenium) (1.3.0)\n",
      "Requirement already satisfied: cffi>=1.14 in c:\\users\\aman9\\anaconda3\\lib\\site-packages (from trio~=0.17->selenium) (1.15.1)\n",
      "Requirement already satisfied: wsproto>=0.14 in c:\\users\\aman9\\anaconda3\\lib\\site-packages (from trio-websocket~=0.9->selenium) (1.2.0)\n",
      "Requirement already satisfied: PySocks!=1.5.7,<2.0,>=1.5.6 in c:\\users\\aman9\\anaconda3\\lib\\site-packages (from urllib3[socks]<3,>=1.26->selenium) (1.7.1)\n",
      "Requirement already satisfied: pycparser in c:\\users\\aman9\\anaconda3\\lib\\site-packages (from cffi>=1.14->trio~=0.17->selenium) (2.21)\n",
      "Requirement already satisfied: h11<1,>=0.9.0 in c:\\users\\aman9\\anaconda3\\lib\\site-packages (from wsproto>=0.14->trio-websocket~=0.9->selenium) (0.14.0)\n"
     ]
    }
   ],
   "source": [
    "!pip install selenium"
   ]
  },
  {
   "cell_type": "code",
   "execution_count": 9,
   "id": "090e9524",
   "metadata": {},
   "outputs": [
    {
     "name": "stdout",
     "output_type": "stream",
     "text": [
      "Link not found\n"
     ]
    },
    {
     "ename": "NoSuchElementException",
     "evalue": "Message: no such element: Unable to locate element: {\"method\":\"xpath\",\"selector\":\"//div[@class='js-list']/div[@class='fixture__format-list']\"}\n  (Session info: chrome=120.0.6099.110); For documentation on this error, please visit: https://www.selenium.dev/documentation/webdriver/troubleshooting/errors#no-such-element-exception\nStacktrace:\n\tGetHandleVerifier [0x00007FF7FF0D2142+3514994]\n\t(No symbol) [0x00007FF7FECF0CE2]\n\t(No symbol) [0x00007FF7FEB976AA]\n\t(No symbol) [0x00007FF7FEBE1860]\n\t(No symbol) [0x00007FF7FEBE197C]\n\t(No symbol) [0x00007FF7FEC24EE7]\n\t(No symbol) [0x00007FF7FEC0602F]\n\t(No symbol) [0x00007FF7FEC228F6]\n\t(No symbol) [0x00007FF7FEC05D93]\n\t(No symbol) [0x00007FF7FEBD4BDC]\n\t(No symbol) [0x00007FF7FEBD5C64]\n\tGetHandleVerifier [0x00007FF7FF0FE16B+3695259]\n\tGetHandleVerifier [0x00007FF7FF156737+4057191]\n\tGetHandleVerifier [0x00007FF7FF14E4E3+4023827]\n\tGetHandleVerifier [0x00007FF7FEE204F9+689705]\n\t(No symbol) [0x00007FF7FECFC048]\n\t(No symbol) [0x00007FF7FECF8044]\n\t(No symbol) [0x00007FF7FECF81C9]\n\t(No symbol) [0x00007FF7FECE88C4]\n\tBaseThreadInitThunk [0x00007FFEC7D47344+20]\n\tRtlUserThreadStart [0x00007FFEC88826B1+33]\n",
     "output_type": "error",
     "traceback": [
      "\u001b[1;31m---------------------------------------------------------------------------\u001b[0m",
      "\u001b[1;31mNoSuchElementException\u001b[0m                    Traceback (most recent call last)",
      "Cell \u001b[1;32mIn[9], line 17\u001b[0m\n\u001b[0;32m     14\u001b[0m     \u001b[38;5;28mprint\u001b[39m(\u001b[38;5;124m\"\u001b[39m\u001b[38;5;124mLink not found\u001b[39m\u001b[38;5;124m\"\u001b[39m)\n\u001b[0;32m     16\u001b[0m \u001b[38;5;66;03m# Extract the data from the table\u001b[39;00m\n\u001b[1;32m---> 17\u001b[0m table \u001b[38;5;241m=\u001b[39m driver\u001b[38;5;241m.\u001b[39mfind_element(By\u001b[38;5;241m.\u001b[39mXPATH, \u001b[38;5;124m\"\u001b[39m\u001b[38;5;124m//div[@class=\u001b[39m\u001b[38;5;124m'\u001b[39m\u001b[38;5;124mjs-list\u001b[39m\u001b[38;5;124m'\u001b[39m\u001b[38;5;124m]/div[@class=\u001b[39m\u001b[38;5;124m'\u001b[39m\u001b[38;5;124mfixture__format-list\u001b[39m\u001b[38;5;124m'\u001b[39m\u001b[38;5;124m]\u001b[39m\u001b[38;5;124m\"\u001b[39m)\n\u001b[0;32m     18\u001b[0m rows \u001b[38;5;241m=\u001b[39m table\u001b[38;5;241m.\u001b[39mfind_elements(By\u001b[38;5;241m.\u001b[39mTAG_NAME, \u001b[38;5;124m\"\u001b[39m\u001b[38;5;124mdiv\u001b[39m\u001b[38;5;124m\"\u001b[39m)\n\u001b[0;32m     20\u001b[0m \u001b[38;5;28;01mfor\u001b[39;00m row \u001b[38;5;129;01min\u001b[39;00m rows:\n",
      "File \u001b[1;32m~\\anaconda3\\Lib\\site-packages\\selenium\\webdriver\\remote\\webdriver.py:742\u001b[0m, in \u001b[0;36mWebDriver.find_element\u001b[1;34m(self, by, value)\u001b[0m\n\u001b[0;32m    739\u001b[0m     by \u001b[38;5;241m=\u001b[39m By\u001b[38;5;241m.\u001b[39mCSS_SELECTOR\n\u001b[0;32m    740\u001b[0m     value \u001b[38;5;241m=\u001b[39m \u001b[38;5;124mf\u001b[39m\u001b[38;5;124m'\u001b[39m\u001b[38;5;124m[name=\u001b[39m\u001b[38;5;124m\"\u001b[39m\u001b[38;5;132;01m{\u001b[39;00mvalue\u001b[38;5;132;01m}\u001b[39;00m\u001b[38;5;124m\"\u001b[39m\u001b[38;5;124m]\u001b[39m\u001b[38;5;124m'\u001b[39m\n\u001b[1;32m--> 742\u001b[0m \u001b[38;5;28;01mreturn\u001b[39;00m \u001b[38;5;28mself\u001b[39m\u001b[38;5;241m.\u001b[39mexecute(Command\u001b[38;5;241m.\u001b[39mFIND_ELEMENT, {\u001b[38;5;124m\"\u001b[39m\u001b[38;5;124musing\u001b[39m\u001b[38;5;124m\"\u001b[39m: by, \u001b[38;5;124m\"\u001b[39m\u001b[38;5;124mvalue\u001b[39m\u001b[38;5;124m\"\u001b[39m: value})[\u001b[38;5;124m\"\u001b[39m\u001b[38;5;124mvalue\u001b[39m\u001b[38;5;124m\"\u001b[39m]\n",
      "File \u001b[1;32m~\\anaconda3\\Lib\\site-packages\\selenium\\webdriver\\remote\\webdriver.py:348\u001b[0m, in \u001b[0;36mWebDriver.execute\u001b[1;34m(self, driver_command, params)\u001b[0m\n\u001b[0;32m    346\u001b[0m response \u001b[38;5;241m=\u001b[39m \u001b[38;5;28mself\u001b[39m\u001b[38;5;241m.\u001b[39mcommand_executor\u001b[38;5;241m.\u001b[39mexecute(driver_command, params)\n\u001b[0;32m    347\u001b[0m \u001b[38;5;28;01mif\u001b[39;00m response:\n\u001b[1;32m--> 348\u001b[0m     \u001b[38;5;28mself\u001b[39m\u001b[38;5;241m.\u001b[39merror_handler\u001b[38;5;241m.\u001b[39mcheck_response(response)\n\u001b[0;32m    349\u001b[0m     response[\u001b[38;5;124m\"\u001b[39m\u001b[38;5;124mvalue\u001b[39m\u001b[38;5;124m\"\u001b[39m] \u001b[38;5;241m=\u001b[39m \u001b[38;5;28mself\u001b[39m\u001b[38;5;241m.\u001b[39m_unwrap_value(response\u001b[38;5;241m.\u001b[39mget(\u001b[38;5;124m\"\u001b[39m\u001b[38;5;124mvalue\u001b[39m\u001b[38;5;124m\"\u001b[39m, \u001b[38;5;28;01mNone\u001b[39;00m))\n\u001b[0;32m    350\u001b[0m     \u001b[38;5;28;01mreturn\u001b[39;00m response\n",
      "File \u001b[1;32m~\\anaconda3\\Lib\\site-packages\\selenium\\webdriver\\remote\\errorhandler.py:229\u001b[0m, in \u001b[0;36mErrorHandler.check_response\u001b[1;34m(self, response)\u001b[0m\n\u001b[0;32m    227\u001b[0m         alert_text \u001b[38;5;241m=\u001b[39m value[\u001b[38;5;124m\"\u001b[39m\u001b[38;5;124malert\u001b[39m\u001b[38;5;124m\"\u001b[39m]\u001b[38;5;241m.\u001b[39mget(\u001b[38;5;124m\"\u001b[39m\u001b[38;5;124mtext\u001b[39m\u001b[38;5;124m\"\u001b[39m)\n\u001b[0;32m    228\u001b[0m     \u001b[38;5;28;01mraise\u001b[39;00m exception_class(message, screen, stacktrace, alert_text)  \u001b[38;5;66;03m# type: ignore[call-arg]  # mypy is not smart enough here\u001b[39;00m\n\u001b[1;32m--> 229\u001b[0m \u001b[38;5;28;01mraise\u001b[39;00m exception_class(message, screen, stacktrace)\n",
      "\u001b[1;31mNoSuchElementException\u001b[0m: Message: no such element: Unable to locate element: {\"method\":\"xpath\",\"selector\":\"//div[@class='js-list']/div[@class='fixture__format-list']\"}\n  (Session info: chrome=120.0.6099.110); For documentation on this error, please visit: https://www.selenium.dev/documentation/webdriver/troubleshooting/errors#no-such-element-exception\nStacktrace:\n\tGetHandleVerifier [0x00007FF7FF0D2142+3514994]\n\t(No symbol) [0x00007FF7FECF0CE2]\n\t(No symbol) [0x00007FF7FEB976AA]\n\t(No symbol) [0x00007FF7FEBE1860]\n\t(No symbol) [0x00007FF7FEBE197C]\n\t(No symbol) [0x00007FF7FEC24EE7]\n\t(No symbol) [0x00007FF7FEC0602F]\n\t(No symbol) [0x00007FF7FEC228F6]\n\t(No symbol) [0x00007FF7FEC05D93]\n\t(No symbol) [0x00007FF7FEBD4BDC]\n\t(No symbol) [0x00007FF7FEBD5C64]\n\tGetHandleVerifier [0x00007FF7FF0FE16B+3695259]\n\tGetHandleVerifier [0x00007FF7FF156737+4057191]\n\tGetHandleVerifier [0x00007FF7FF14E4E3+4023827]\n\tGetHandleVerifier [0x00007FF7FEE204F9+689705]\n\t(No symbol) [0x00007FF7FECFC048]\n\t(No symbol) [0x00007FF7FECF8044]\n\t(No symbol) [0x00007FF7FECF81C9]\n\t(No symbol) [0x00007FF7FECE88C4]\n\tBaseThreadInitThunk [0x00007FFEC7D47344+20]\n\tRtlUserThreadStart [0x00007FFEC88826B1+33]\n"
     ]
    }
   ],
   "source": [
    "from selenium import webdriver\n",
    "from selenium.webdriver.common.by import By\n",
    "from selenium.common.exceptions import NoSuchElementException\n",
    "\n",
    "# Open the URL in a web browser\n",
    "driver = webdriver.Chrome()\n",
    "driver.get(\"https://www.bcci.tv/series-and-tournaments?platform=international&type=men\")\n",
    "\n",
    "# Find the link that leads to the international fixture page\n",
    "try:\n",
    "    link = driver.find_element(By.XPATH, \"//a[@href='/international/fixtures']\")\n",
    "    link.click()\n",
    "except NoSuchElementException:\n",
    "    print(\"Link not found\")\n",
    "\n",
    "# Extract the data from the table\n",
    "table = driver.find_element(By.XPATH, \"//div[@class='js-list']/div[@class='fixture__format-list']\")\n",
    "rows = table.find_elements(By.TAG_NAME, \"div\")\n",
    "\n",
    "for row in rows:\n",
    "    series = row.find_element(By.XPATH, \".//span[@class='u-unskewed-text fixture__tournament-label u-truncated']\")\n",
    "    place = row.find_element(By.XPATH, \".//p[@class='fixture__additional-info']/span\")\n",
    "    date = row.find_element(By.XPATH, \".//div[@class='fixture__full-date']\")\n",
    "    time = row.find_element(By.XPATH, \".//div[@class='fixture__date-details']/span\")\n",
    "\n",
    "    print(f\"Series: {series.text}, Place: {place.text}, Date: {date.text}, Time: {time.text}\")\n"
   ]
  },
  {
   "cell_type": "code",
   "execution_count": 3,
   "id": "ca2c4646",
   "metadata": {},
   "outputs": [
    {
     "ename": "TimeoutException",
     "evalue": "Message: \nStacktrace:\n\tGetHandleVerifier [0x00007FF63A072142+3514994]\n\t(No symbol) [0x00007FF639C90CE2]\n\t(No symbol) [0x00007FF639B376AA]\n\t(No symbol) [0x00007FF639B81860]\n\t(No symbol) [0x00007FF639B8197C]\n\t(No symbol) [0x00007FF639BC4EE7]\n\t(No symbol) [0x00007FF639BA602F]\n\t(No symbol) [0x00007FF639BC28F6]\n\t(No symbol) [0x00007FF639BA5D93]\n\t(No symbol) [0x00007FF639B74BDC]\n\t(No symbol) [0x00007FF639B75C64]\n\tGetHandleVerifier [0x00007FF63A09E16B+3695259]\n\tGetHandleVerifier [0x00007FF63A0F6737+4057191]\n\tGetHandleVerifier [0x00007FF63A0EE4E3+4023827]\n\tGetHandleVerifier [0x00007FF639DC04F9+689705]\n\t(No symbol) [0x00007FF639C9C048]\n\t(No symbol) [0x00007FF639C98044]\n\t(No symbol) [0x00007FF639C981C9]\n\t(No symbol) [0x00007FF639C888C4]\n\tBaseThreadInitThunk [0x00007FFBF1B07344+20]\n\tRtlUserThreadStart [0x00007FFBF36226B1+33]\n",
     "output_type": "error",
     "traceback": [
      "\u001b[1;31m---------------------------------------------------------------------------\u001b[0m",
      "\u001b[1;31mTimeoutException\u001b[0m                          Traceback (most recent call last)",
      "Cell \u001b[1;32mIn[3], line 13\u001b[0m\n\u001b[0;32m     10\u001b[0m driver\u001b[38;5;241m.\u001b[39mget(\u001b[38;5;124m\"\u001b[39m\u001b[38;5;124mhttp://statisticstimes.com/\u001b[39m\u001b[38;5;124m\"\u001b[39m)\n\u001b[0;32m     12\u001b[0m \u001b[38;5;66;03m# Navigate to the economy page\u001b[39;00m\n\u001b[1;32m---> 13\u001b[0m economy_link \u001b[38;5;241m=\u001b[39m WebDriverWait(driver, \u001b[38;5;241m10\u001b[39m)\u001b[38;5;241m.\u001b[39muntil(EC\u001b[38;5;241m.\u001b[39mpresence_of_element_located((By\u001b[38;5;241m.\u001b[39mLINK_TEXT, \u001b[38;5;124m\"\u001b[39m\u001b[38;5;124mEconomy\u001b[39m\u001b[38;5;124m\"\u001b[39m)))\n\u001b[0;32m     14\u001b[0m economy_link\u001b[38;5;241m.\u001b[39mclick()\n\u001b[0;32m     16\u001b[0m \u001b[38;5;66;03m# Find the table with the GDP data\u001b[39;00m\n",
      "File \u001b[1;32m~\\anaconda3\\Lib\\site-packages\\selenium\\webdriver\\support\\wait.py:105\u001b[0m, in \u001b[0;36mWebDriverWait.until\u001b[1;34m(self, method, message)\u001b[0m\n\u001b[0;32m    103\u001b[0m     \u001b[38;5;28;01mif\u001b[39;00m time\u001b[38;5;241m.\u001b[39mmonotonic() \u001b[38;5;241m>\u001b[39m end_time:\n\u001b[0;32m    104\u001b[0m         \u001b[38;5;28;01mbreak\u001b[39;00m\n\u001b[1;32m--> 105\u001b[0m \u001b[38;5;28;01mraise\u001b[39;00m TimeoutException(message, screen, stacktrace)\n",
      "\u001b[1;31mTimeoutException\u001b[0m: Message: \nStacktrace:\n\tGetHandleVerifier [0x00007FF63A072142+3514994]\n\t(No symbol) [0x00007FF639C90CE2]\n\t(No symbol) [0x00007FF639B376AA]\n\t(No symbol) [0x00007FF639B81860]\n\t(No symbol) [0x00007FF639B8197C]\n\t(No symbol) [0x00007FF639BC4EE7]\n\t(No symbol) [0x00007FF639BA602F]\n\t(No symbol) [0x00007FF639BC28F6]\n\t(No symbol) [0x00007FF639BA5D93]\n\t(No symbol) [0x00007FF639B74BDC]\n\t(No symbol) [0x00007FF639B75C64]\n\tGetHandleVerifier [0x00007FF63A09E16B+3695259]\n\tGetHandleVerifier [0x00007FF63A0F6737+4057191]\n\tGetHandleVerifier [0x00007FF63A0EE4E3+4023827]\n\tGetHandleVerifier [0x00007FF639DC04F9+689705]\n\t(No symbol) [0x00007FF639C9C048]\n\t(No symbol) [0x00007FF639C98044]\n\t(No symbol) [0x00007FF639C981C9]\n\t(No symbol) [0x00007FF639C888C4]\n\tBaseThreadInitThunk [0x00007FFBF1B07344+20]\n\tRtlUserThreadStart [0x00007FFBF36226B1+33]\n"
     ]
    }
   ],
   "source": [
    "from selenium import webdriver\n",
    "from selenium.webdriver.common.by import By\n",
    "from selenium.webdriver.support.ui import WebDriverWait\n",
    "from selenium.webdriver.support import expected_conditions as EC\n",
    "\n",
    "# Initialize the Chrome driver\n",
    "driver = webdriver.Chrome()\n",
    "\n",
    "# Go to the statistics times home page\n",
    "driver.get(\"http://statisticstimes.com/\")\n",
    "\n",
    "# Navigate to the economy page\n",
    "economy_link = WebDriverWait(driver, 10).until(EC.presence_of_element_located((By.LINK_TEXT, \"Economy\")))\n",
    "economy_link.click()\n",
    "\n",
    "# Find the table with the GDP data\n",
    "table = WebDriverWait(driver, 10).until(EC.presence_of_element_located((By.XPATH, \"//table\")))\n",
    "\n",
    "# Extract the table rows\n",
    "rows = table.find_elements(By.TAG_NAME, \"tr\")\n",
    "\n",
    "# Loop through each row\n",
    "for row in rows:\n",
    "    # Get the columns in each row\n",
    "    cols = row.find_elements(By.TAG_NAME, \"td\")\n",
    "    \n",
    "    # Extract the data from each column\n",
    "    rank = cols[0].text\n",
    "    state = cols[1].text\n",
    "    gsdp_18_19 = cols[2].text\n",
    "    gsdp_19_20 = cols[3].text\n",
    "    share_18_19 = cols[4].text\n",
    "    gdp_billion = cols[5].text\n",
    "    \n",
    "    # Print the data\n",
    "    print(rank, state, gsdp_18_19, gsdp_19_20, share_18_19, gdp_billion)\n",
    "\n",
    "# Close the driver\n",
    "driver.quit()\n"
   ]
  },
  {
   "cell_type": "code",
   "execution_count": 4,
   "id": "8abf1d71",
   "metadata": {},
   "outputs": [
    {
     "name": "stdout",
     "output_type": "stream",
     "text": [
      "An error occurred: Message: \n",
      "Stacktrace:\n",
      "\tGetHandleVerifier [0x00007FF63A072142+3514994]\n",
      "\t(No symbol) [0x00007FF639C90CE2]\n",
      "\t(No symbol) [0x00007FF639B376AA]\n",
      "\t(No symbol) [0x00007FF639B81860]\n",
      "\t(No symbol) [0x00007FF639B8197C]\n",
      "\t(No symbol) [0x00007FF639BC4EE7]\n",
      "\t(No symbol) [0x00007FF639BA602F]\n",
      "\t(No symbol) [0x00007FF639BC28F6]\n",
      "\t(No symbol) [0x00007FF639BA5D93]\n",
      "\t(No symbol) [0x00007FF639B74BDC]\n",
      "\t(No symbol) [0x00007FF639B75C64]\n",
      "\tGetHandleVerifier [0x00007FF63A09E16B+3695259]\n",
      "\tGetHandleVerifier [0x00007FF63A0F6737+4057191]\n",
      "\tGetHandleVerifier [0x00007FF63A0EE4E3+4023827]\n",
      "\tGetHandleVerifier [0x00007FF639DC04F9+689705]\n",
      "\t(No symbol) [0x00007FF639C9C048]\n",
      "\t(No symbol) [0x00007FF639C98044]\n",
      "\t(No symbol) [0x00007FF639C981C9]\n",
      "\t(No symbol) [0x00007FF639C888C4]\n",
      "\tBaseThreadInitThunk [0x00007FFBF1B07344+20]\n",
      "\tRtlUserThreadStart [0x00007FFBF36226B1+33]\n",
      "\n"
     ]
    }
   ],
   "source": [
    "from selenium import webdriver\n",
    "from selenium.webdriver.common.by import By\n",
    "from selenium.webdriver.support.ui import WebDriverWait\n",
    "from selenium.webdriver.support import expected_conditions as EC\n",
    "\n",
    "# Start the WebDriver (e.g., Chrome)\n",
    "driver = webdriver.Chrome()\n",
    "\n",
    "try:\n",
    "    # Navigate to the website\n",
    "    driver.get(\"http://statisticstimes.com/\")\n",
    "\n",
    "    # Wait for the \"Economy\" link to be present on the page\n",
    "    economy_link = WebDriverWait(driver, 10).until(\n",
    "        EC.presence_of_element_located((By.LINK_TEXT, \"Economy\"))\n",
    "    )\n",
    "\n",
    "    # Click on the \"Economy\" link\n",
    "    economy_link.click()\n",
    "\n",
    "    # Add additional code to handle the next steps on the page\n",
    "\n",
    "except Exception as e:\n",
    "    print(f\"An error occurred: {e}\")\n",
    "\n",
    "finally:\n",
    "    # Close the browser window\n",
    "    driver.quit()\n",
    "\n",
    "    "
   ]
  },
  {
   "cell_type": "code",
   "execution_count": 5,
   "id": "8c31eff5",
   "metadata": {},
   "outputs": [
    {
     "ename": "MaxRetryError",
     "evalue": "HTTPConnectionPool(host='localhost', port=51333): Max retries exceeded with url: /session/658d4cf1782f0c56304e824e6f99b4eb/element (Caused by NewConnectionError('<urllib3.connection.HTTPConnection object at 0x0000020ACF4A8990>: Failed to establish a new connection: [WinError 10061] No connection could be made because the target machine actively refused it'))",
     "output_type": "error",
     "traceback": [
      "\u001b[1;31m---------------------------------------------------------------------------\u001b[0m",
      "\u001b[1;31mConnectionRefusedError\u001b[0m                    Traceback (most recent call last)",
      "File \u001b[1;32m~\\anaconda3\\Lib\\site-packages\\urllib3\\connection.py:174\u001b[0m, in \u001b[0;36mHTTPConnection._new_conn\u001b[1;34m(self)\u001b[0m\n\u001b[0;32m    173\u001b[0m \u001b[38;5;28;01mtry\u001b[39;00m:\n\u001b[1;32m--> 174\u001b[0m     conn \u001b[38;5;241m=\u001b[39m connection\u001b[38;5;241m.\u001b[39mcreate_connection(\n\u001b[0;32m    175\u001b[0m         (\u001b[38;5;28mself\u001b[39m\u001b[38;5;241m.\u001b[39m_dns_host, \u001b[38;5;28mself\u001b[39m\u001b[38;5;241m.\u001b[39mport), \u001b[38;5;28mself\u001b[39m\u001b[38;5;241m.\u001b[39mtimeout, \u001b[38;5;241m*\u001b[39m\u001b[38;5;241m*\u001b[39mextra_kw\n\u001b[0;32m    176\u001b[0m     )\n\u001b[0;32m    178\u001b[0m \u001b[38;5;28;01mexcept\u001b[39;00m SocketTimeout:\n",
      "File \u001b[1;32m~\\anaconda3\\Lib\\site-packages\\urllib3\\util\\connection.py:95\u001b[0m, in \u001b[0;36mcreate_connection\u001b[1;34m(address, timeout, source_address, socket_options)\u001b[0m\n\u001b[0;32m     94\u001b[0m \u001b[38;5;28;01mif\u001b[39;00m err \u001b[38;5;129;01mis\u001b[39;00m \u001b[38;5;129;01mnot\u001b[39;00m \u001b[38;5;28;01mNone\u001b[39;00m:\n\u001b[1;32m---> 95\u001b[0m     \u001b[38;5;28;01mraise\u001b[39;00m err\n\u001b[0;32m     97\u001b[0m \u001b[38;5;28;01mraise\u001b[39;00m socket\u001b[38;5;241m.\u001b[39merror(\u001b[38;5;124m\"\u001b[39m\u001b[38;5;124mgetaddrinfo returns an empty list\u001b[39m\u001b[38;5;124m\"\u001b[39m)\n",
      "File \u001b[1;32m~\\anaconda3\\Lib\\site-packages\\urllib3\\util\\connection.py:85\u001b[0m, in \u001b[0;36mcreate_connection\u001b[1;34m(address, timeout, source_address, socket_options)\u001b[0m\n\u001b[0;32m     84\u001b[0m     sock\u001b[38;5;241m.\u001b[39mbind(source_address)\n\u001b[1;32m---> 85\u001b[0m sock\u001b[38;5;241m.\u001b[39mconnect(sa)\n\u001b[0;32m     86\u001b[0m \u001b[38;5;28;01mreturn\u001b[39;00m sock\n",
      "\u001b[1;31mConnectionRefusedError\u001b[0m: [WinError 10061] No connection could be made because the target machine actively refused it",
      "\nDuring handling of the above exception, another exception occurred:\n",
      "\u001b[1;31mNewConnectionError\u001b[0m                        Traceback (most recent call last)",
      "File \u001b[1;32m~\\anaconda3\\Lib\\site-packages\\urllib3\\connectionpool.py:714\u001b[0m, in \u001b[0;36mHTTPConnectionPool.urlopen\u001b[1;34m(self, method, url, body, headers, retries, redirect, assert_same_host, timeout, pool_timeout, release_conn, chunked, body_pos, **response_kw)\u001b[0m\n\u001b[0;32m    713\u001b[0m \u001b[38;5;66;03m# Make the request on the httplib connection object.\u001b[39;00m\n\u001b[1;32m--> 714\u001b[0m httplib_response \u001b[38;5;241m=\u001b[39m \u001b[38;5;28mself\u001b[39m\u001b[38;5;241m.\u001b[39m_make_request(\n\u001b[0;32m    715\u001b[0m     conn,\n\u001b[0;32m    716\u001b[0m     method,\n\u001b[0;32m    717\u001b[0m     url,\n\u001b[0;32m    718\u001b[0m     timeout\u001b[38;5;241m=\u001b[39mtimeout_obj,\n\u001b[0;32m    719\u001b[0m     body\u001b[38;5;241m=\u001b[39mbody,\n\u001b[0;32m    720\u001b[0m     headers\u001b[38;5;241m=\u001b[39mheaders,\n\u001b[0;32m    721\u001b[0m     chunked\u001b[38;5;241m=\u001b[39mchunked,\n\u001b[0;32m    722\u001b[0m )\n\u001b[0;32m    724\u001b[0m \u001b[38;5;66;03m# If we're going to release the connection in ``finally:``, then\u001b[39;00m\n\u001b[0;32m    725\u001b[0m \u001b[38;5;66;03m# the response doesn't need to know about the connection. Otherwise\u001b[39;00m\n\u001b[0;32m    726\u001b[0m \u001b[38;5;66;03m# it will also try to release it and we'll have a double-release\u001b[39;00m\n\u001b[0;32m    727\u001b[0m \u001b[38;5;66;03m# mess.\u001b[39;00m\n",
      "File \u001b[1;32m~\\anaconda3\\Lib\\site-packages\\urllib3\\connectionpool.py:415\u001b[0m, in \u001b[0;36mHTTPConnectionPool._make_request\u001b[1;34m(self, conn, method, url, timeout, chunked, **httplib_request_kw)\u001b[0m\n\u001b[0;32m    414\u001b[0m     \u001b[38;5;28;01melse\u001b[39;00m:\n\u001b[1;32m--> 415\u001b[0m         conn\u001b[38;5;241m.\u001b[39mrequest(method, url, \u001b[38;5;241m*\u001b[39m\u001b[38;5;241m*\u001b[39mhttplib_request_kw)\n\u001b[0;32m    417\u001b[0m \u001b[38;5;66;03m# We are swallowing BrokenPipeError (errno.EPIPE) since the server is\u001b[39;00m\n\u001b[0;32m    418\u001b[0m \u001b[38;5;66;03m# legitimately able to close the connection after sending a valid response.\u001b[39;00m\n\u001b[0;32m    419\u001b[0m \u001b[38;5;66;03m# With this behaviour, the received response is still readable.\u001b[39;00m\n",
      "File \u001b[1;32m~\\anaconda3\\Lib\\site-packages\\urllib3\\connection.py:244\u001b[0m, in \u001b[0;36mHTTPConnection.request\u001b[1;34m(self, method, url, body, headers)\u001b[0m\n\u001b[0;32m    243\u001b[0m     headers[\u001b[38;5;124m\"\u001b[39m\u001b[38;5;124mUser-Agent\u001b[39m\u001b[38;5;124m\"\u001b[39m] \u001b[38;5;241m=\u001b[39m _get_default_user_agent()\n\u001b[1;32m--> 244\u001b[0m \u001b[38;5;28msuper\u001b[39m(HTTPConnection, \u001b[38;5;28mself\u001b[39m)\u001b[38;5;241m.\u001b[39mrequest(method, url, body\u001b[38;5;241m=\u001b[39mbody, headers\u001b[38;5;241m=\u001b[39mheaders)\n",
      "File \u001b[1;32m~\\anaconda3\\Lib\\http\\client.py:1286\u001b[0m, in \u001b[0;36mHTTPConnection.request\u001b[1;34m(self, method, url, body, headers, encode_chunked)\u001b[0m\n\u001b[0;32m   1285\u001b[0m \u001b[38;5;250m\u001b[39m\u001b[38;5;124;03m\"\"\"Send a complete request to the server.\"\"\"\u001b[39;00m\n\u001b[1;32m-> 1286\u001b[0m \u001b[38;5;28mself\u001b[39m\u001b[38;5;241m.\u001b[39m_send_request(method, url, body, headers, encode_chunked)\n",
      "File \u001b[1;32m~\\anaconda3\\Lib\\http\\client.py:1332\u001b[0m, in \u001b[0;36mHTTPConnection._send_request\u001b[1;34m(self, method, url, body, headers, encode_chunked)\u001b[0m\n\u001b[0;32m   1331\u001b[0m     body \u001b[38;5;241m=\u001b[39m _encode(body, \u001b[38;5;124m'\u001b[39m\u001b[38;5;124mbody\u001b[39m\u001b[38;5;124m'\u001b[39m)\n\u001b[1;32m-> 1332\u001b[0m \u001b[38;5;28mself\u001b[39m\u001b[38;5;241m.\u001b[39mendheaders(body, encode_chunked\u001b[38;5;241m=\u001b[39mencode_chunked)\n",
      "File \u001b[1;32m~\\anaconda3\\Lib\\http\\client.py:1281\u001b[0m, in \u001b[0;36mHTTPConnection.endheaders\u001b[1;34m(self, message_body, encode_chunked)\u001b[0m\n\u001b[0;32m   1280\u001b[0m     \u001b[38;5;28;01mraise\u001b[39;00m CannotSendHeader()\n\u001b[1;32m-> 1281\u001b[0m \u001b[38;5;28mself\u001b[39m\u001b[38;5;241m.\u001b[39m_send_output(message_body, encode_chunked\u001b[38;5;241m=\u001b[39mencode_chunked)\n",
      "File \u001b[1;32m~\\anaconda3\\Lib\\http\\client.py:1041\u001b[0m, in \u001b[0;36mHTTPConnection._send_output\u001b[1;34m(self, message_body, encode_chunked)\u001b[0m\n\u001b[0;32m   1040\u001b[0m \u001b[38;5;28;01mdel\u001b[39;00m \u001b[38;5;28mself\u001b[39m\u001b[38;5;241m.\u001b[39m_buffer[:]\n\u001b[1;32m-> 1041\u001b[0m \u001b[38;5;28mself\u001b[39m\u001b[38;5;241m.\u001b[39msend(msg)\n\u001b[0;32m   1043\u001b[0m \u001b[38;5;28;01mif\u001b[39;00m message_body \u001b[38;5;129;01mis\u001b[39;00m \u001b[38;5;129;01mnot\u001b[39;00m \u001b[38;5;28;01mNone\u001b[39;00m:\n\u001b[0;32m   1044\u001b[0m \n\u001b[0;32m   1045\u001b[0m     \u001b[38;5;66;03m# create a consistent interface to message_body\u001b[39;00m\n",
      "File \u001b[1;32m~\\anaconda3\\Lib\\http\\client.py:979\u001b[0m, in \u001b[0;36mHTTPConnection.send\u001b[1;34m(self, data)\u001b[0m\n\u001b[0;32m    978\u001b[0m \u001b[38;5;28;01mif\u001b[39;00m \u001b[38;5;28mself\u001b[39m\u001b[38;5;241m.\u001b[39mauto_open:\n\u001b[1;32m--> 979\u001b[0m     \u001b[38;5;28mself\u001b[39m\u001b[38;5;241m.\u001b[39mconnect()\n\u001b[0;32m    980\u001b[0m \u001b[38;5;28;01melse\u001b[39;00m:\n",
      "File \u001b[1;32m~\\anaconda3\\Lib\\site-packages\\urllib3\\connection.py:205\u001b[0m, in \u001b[0;36mHTTPConnection.connect\u001b[1;34m(self)\u001b[0m\n\u001b[0;32m    204\u001b[0m \u001b[38;5;28;01mdef\u001b[39;00m \u001b[38;5;21mconnect\u001b[39m(\u001b[38;5;28mself\u001b[39m):\n\u001b[1;32m--> 205\u001b[0m     conn \u001b[38;5;241m=\u001b[39m \u001b[38;5;28mself\u001b[39m\u001b[38;5;241m.\u001b[39m_new_conn()\n\u001b[0;32m    206\u001b[0m     \u001b[38;5;28mself\u001b[39m\u001b[38;5;241m.\u001b[39m_prepare_conn(conn)\n",
      "File \u001b[1;32m~\\anaconda3\\Lib\\site-packages\\urllib3\\connection.py:186\u001b[0m, in \u001b[0;36mHTTPConnection._new_conn\u001b[1;34m(self)\u001b[0m\n\u001b[0;32m    185\u001b[0m \u001b[38;5;28;01mexcept\u001b[39;00m SocketError \u001b[38;5;28;01mas\u001b[39;00m e:\n\u001b[1;32m--> 186\u001b[0m     \u001b[38;5;28;01mraise\u001b[39;00m NewConnectionError(\n\u001b[0;32m    187\u001b[0m         \u001b[38;5;28mself\u001b[39m, \u001b[38;5;124m\"\u001b[39m\u001b[38;5;124mFailed to establish a new connection: \u001b[39m\u001b[38;5;132;01m%s\u001b[39;00m\u001b[38;5;124m\"\u001b[39m \u001b[38;5;241m%\u001b[39m e\n\u001b[0;32m    188\u001b[0m     )\n\u001b[0;32m    190\u001b[0m \u001b[38;5;28;01mreturn\u001b[39;00m conn\n",
      "\u001b[1;31mNewConnectionError\u001b[0m: <urllib3.connection.HTTPConnection object at 0x0000020ACF4A8990>: Failed to establish a new connection: [WinError 10061] No connection could be made because the target machine actively refused it",
      "\nDuring handling of the above exception, another exception occurred:\n",
      "\u001b[1;31mMaxRetryError\u001b[0m                             Traceback (most recent call last)",
      "Cell \u001b[1;32mIn[5], line 1\u001b[0m\n\u001b[1;32m----> 1\u001b[0m economy_link \u001b[38;5;241m=\u001b[39m WebDriverWait(driver, \u001b[38;5;241m10\u001b[39m)\u001b[38;5;241m.\u001b[39muntil(\n\u001b[0;32m      2\u001b[0m     EC\u001b[38;5;241m.\u001b[39mpresence_of_element_located((By\u001b[38;5;241m.\u001b[39mXPATH, \u001b[38;5;124m\"\u001b[39m\u001b[38;5;124m//a[text()=\u001b[39m\u001b[38;5;124m'\u001b[39m\u001b[38;5;124mEconomy\u001b[39m\u001b[38;5;124m'\u001b[39m\u001b[38;5;124m]\u001b[39m\u001b[38;5;124m\"\u001b[39m))\n\u001b[0;32m      3\u001b[0m )\n",
      "File \u001b[1;32m~\\anaconda3\\Lib\\site-packages\\selenium\\webdriver\\support\\wait.py:96\u001b[0m, in \u001b[0;36mWebDriverWait.until\u001b[1;34m(self, method, message)\u001b[0m\n\u001b[0;32m     94\u001b[0m \u001b[38;5;28;01mwhile\u001b[39;00m \u001b[38;5;28;01mTrue\u001b[39;00m:\n\u001b[0;32m     95\u001b[0m     \u001b[38;5;28;01mtry\u001b[39;00m:\n\u001b[1;32m---> 96\u001b[0m         value \u001b[38;5;241m=\u001b[39m method(\u001b[38;5;28mself\u001b[39m\u001b[38;5;241m.\u001b[39m_driver)\n\u001b[0;32m     97\u001b[0m         \u001b[38;5;28;01mif\u001b[39;00m value:\n\u001b[0;32m     98\u001b[0m             \u001b[38;5;28;01mreturn\u001b[39;00m value\n",
      "File \u001b[1;32m~\\anaconda3\\Lib\\site-packages\\selenium\\webdriver\\support\\expected_conditions.py:84\u001b[0m, in \u001b[0;36mpresence_of_element_located.<locals>._predicate\u001b[1;34m(driver)\u001b[0m\n\u001b[0;32m     83\u001b[0m \u001b[38;5;28;01mdef\u001b[39;00m \u001b[38;5;21m_predicate\u001b[39m(driver: WebDriverOrWebElement):\n\u001b[1;32m---> 84\u001b[0m     \u001b[38;5;28;01mreturn\u001b[39;00m driver\u001b[38;5;241m.\u001b[39mfind_element(\u001b[38;5;241m*\u001b[39mlocator)\n",
      "File \u001b[1;32m~\\anaconda3\\Lib\\site-packages\\selenium\\webdriver\\remote\\webdriver.py:742\u001b[0m, in \u001b[0;36mWebDriver.find_element\u001b[1;34m(self, by, value)\u001b[0m\n\u001b[0;32m    739\u001b[0m     by \u001b[38;5;241m=\u001b[39m By\u001b[38;5;241m.\u001b[39mCSS_SELECTOR\n\u001b[0;32m    740\u001b[0m     value \u001b[38;5;241m=\u001b[39m \u001b[38;5;124mf\u001b[39m\u001b[38;5;124m'\u001b[39m\u001b[38;5;124m[name=\u001b[39m\u001b[38;5;124m\"\u001b[39m\u001b[38;5;132;01m{\u001b[39;00mvalue\u001b[38;5;132;01m}\u001b[39;00m\u001b[38;5;124m\"\u001b[39m\u001b[38;5;124m]\u001b[39m\u001b[38;5;124m'\u001b[39m\n\u001b[1;32m--> 742\u001b[0m \u001b[38;5;28;01mreturn\u001b[39;00m \u001b[38;5;28mself\u001b[39m\u001b[38;5;241m.\u001b[39mexecute(Command\u001b[38;5;241m.\u001b[39mFIND_ELEMENT, {\u001b[38;5;124m\"\u001b[39m\u001b[38;5;124musing\u001b[39m\u001b[38;5;124m\"\u001b[39m: by, \u001b[38;5;124m\"\u001b[39m\u001b[38;5;124mvalue\u001b[39m\u001b[38;5;124m\"\u001b[39m: value})[\u001b[38;5;124m\"\u001b[39m\u001b[38;5;124mvalue\u001b[39m\u001b[38;5;124m\"\u001b[39m]\n",
      "File \u001b[1;32m~\\anaconda3\\Lib\\site-packages\\selenium\\webdriver\\remote\\webdriver.py:346\u001b[0m, in \u001b[0;36mWebDriver.execute\u001b[1;34m(self, driver_command, params)\u001b[0m\n\u001b[0;32m    343\u001b[0m     \u001b[38;5;28;01melif\u001b[39;00m \u001b[38;5;124m\"\u001b[39m\u001b[38;5;124msessionId\u001b[39m\u001b[38;5;124m\"\u001b[39m \u001b[38;5;129;01mnot\u001b[39;00m \u001b[38;5;129;01min\u001b[39;00m params:\n\u001b[0;32m    344\u001b[0m         params[\u001b[38;5;124m\"\u001b[39m\u001b[38;5;124msessionId\u001b[39m\u001b[38;5;124m\"\u001b[39m] \u001b[38;5;241m=\u001b[39m \u001b[38;5;28mself\u001b[39m\u001b[38;5;241m.\u001b[39msession_id\n\u001b[1;32m--> 346\u001b[0m response \u001b[38;5;241m=\u001b[39m \u001b[38;5;28mself\u001b[39m\u001b[38;5;241m.\u001b[39mcommand_executor\u001b[38;5;241m.\u001b[39mexecute(driver_command, params)\n\u001b[0;32m    347\u001b[0m \u001b[38;5;28;01mif\u001b[39;00m response:\n\u001b[0;32m    348\u001b[0m     \u001b[38;5;28mself\u001b[39m\u001b[38;5;241m.\u001b[39merror_handler\u001b[38;5;241m.\u001b[39mcheck_response(response)\n",
      "File \u001b[1;32m~\\anaconda3\\Lib\\site-packages\\selenium\\webdriver\\remote\\remote_connection.py:300\u001b[0m, in \u001b[0;36mRemoteConnection.execute\u001b[1;34m(self, command, params)\u001b[0m\n\u001b[0;32m    298\u001b[0m data \u001b[38;5;241m=\u001b[39m utils\u001b[38;5;241m.\u001b[39mdump_json(params)\n\u001b[0;32m    299\u001b[0m url \u001b[38;5;241m=\u001b[39m \u001b[38;5;124mf\u001b[39m\u001b[38;5;124m\"\u001b[39m\u001b[38;5;132;01m{\u001b[39;00m\u001b[38;5;28mself\u001b[39m\u001b[38;5;241m.\u001b[39m_url\u001b[38;5;132;01m}\u001b[39;00m\u001b[38;5;132;01m{\u001b[39;00mpath\u001b[38;5;132;01m}\u001b[39;00m\u001b[38;5;124m\"\u001b[39m\n\u001b[1;32m--> 300\u001b[0m \u001b[38;5;28;01mreturn\u001b[39;00m \u001b[38;5;28mself\u001b[39m\u001b[38;5;241m.\u001b[39m_request(command_info[\u001b[38;5;241m0\u001b[39m], url, body\u001b[38;5;241m=\u001b[39mdata)\n",
      "File \u001b[1;32m~\\anaconda3\\Lib\\site-packages\\selenium\\webdriver\\remote\\remote_connection.py:321\u001b[0m, in \u001b[0;36mRemoteConnection._request\u001b[1;34m(self, method, url, body)\u001b[0m\n\u001b[0;32m    318\u001b[0m     body \u001b[38;5;241m=\u001b[39m \u001b[38;5;28;01mNone\u001b[39;00m\n\u001b[0;32m    320\u001b[0m \u001b[38;5;28;01mif\u001b[39;00m \u001b[38;5;28mself\u001b[39m\u001b[38;5;241m.\u001b[39mkeep_alive:\n\u001b[1;32m--> 321\u001b[0m     response \u001b[38;5;241m=\u001b[39m \u001b[38;5;28mself\u001b[39m\u001b[38;5;241m.\u001b[39m_conn\u001b[38;5;241m.\u001b[39mrequest(method, url, body\u001b[38;5;241m=\u001b[39mbody, headers\u001b[38;5;241m=\u001b[39mheaders)\n\u001b[0;32m    322\u001b[0m     statuscode \u001b[38;5;241m=\u001b[39m response\u001b[38;5;241m.\u001b[39mstatus\n\u001b[0;32m    323\u001b[0m \u001b[38;5;28;01melse\u001b[39;00m:\n",
      "File \u001b[1;32m~\\anaconda3\\Lib\\site-packages\\urllib3\\request.py:78\u001b[0m, in \u001b[0;36mRequestMethods.request\u001b[1;34m(self, method, url, fields, headers, **urlopen_kw)\u001b[0m\n\u001b[0;32m     74\u001b[0m     \u001b[38;5;28;01mreturn\u001b[39;00m \u001b[38;5;28mself\u001b[39m\u001b[38;5;241m.\u001b[39mrequest_encode_url(\n\u001b[0;32m     75\u001b[0m         method, url, fields\u001b[38;5;241m=\u001b[39mfields, headers\u001b[38;5;241m=\u001b[39mheaders, \u001b[38;5;241m*\u001b[39m\u001b[38;5;241m*\u001b[39murlopen_kw\n\u001b[0;32m     76\u001b[0m     )\n\u001b[0;32m     77\u001b[0m \u001b[38;5;28;01melse\u001b[39;00m:\n\u001b[1;32m---> 78\u001b[0m     \u001b[38;5;28;01mreturn\u001b[39;00m \u001b[38;5;28mself\u001b[39m\u001b[38;5;241m.\u001b[39mrequest_encode_body(\n\u001b[0;32m     79\u001b[0m         method, url, fields\u001b[38;5;241m=\u001b[39mfields, headers\u001b[38;5;241m=\u001b[39mheaders, \u001b[38;5;241m*\u001b[39m\u001b[38;5;241m*\u001b[39murlopen_kw\n\u001b[0;32m     80\u001b[0m     )\n",
      "File \u001b[1;32m~\\anaconda3\\Lib\\site-packages\\urllib3\\request.py:170\u001b[0m, in \u001b[0;36mRequestMethods.request_encode_body\u001b[1;34m(self, method, url, fields, headers, encode_multipart, multipart_boundary, **urlopen_kw)\u001b[0m\n\u001b[0;32m    167\u001b[0m extra_kw[\u001b[38;5;124m\"\u001b[39m\u001b[38;5;124mheaders\u001b[39m\u001b[38;5;124m\"\u001b[39m]\u001b[38;5;241m.\u001b[39mupdate(headers)\n\u001b[0;32m    168\u001b[0m extra_kw\u001b[38;5;241m.\u001b[39mupdate(urlopen_kw)\n\u001b[1;32m--> 170\u001b[0m \u001b[38;5;28;01mreturn\u001b[39;00m \u001b[38;5;28mself\u001b[39m\u001b[38;5;241m.\u001b[39murlopen(method, url, \u001b[38;5;241m*\u001b[39m\u001b[38;5;241m*\u001b[39mextra_kw)\n",
      "File \u001b[1;32m~\\anaconda3\\Lib\\site-packages\\urllib3\\poolmanager.py:376\u001b[0m, in \u001b[0;36mPoolManager.urlopen\u001b[1;34m(self, method, url, redirect, **kw)\u001b[0m\n\u001b[0;32m    374\u001b[0m     response \u001b[38;5;241m=\u001b[39m conn\u001b[38;5;241m.\u001b[39murlopen(method, url, \u001b[38;5;241m*\u001b[39m\u001b[38;5;241m*\u001b[39mkw)\n\u001b[0;32m    375\u001b[0m \u001b[38;5;28;01melse\u001b[39;00m:\n\u001b[1;32m--> 376\u001b[0m     response \u001b[38;5;241m=\u001b[39m conn\u001b[38;5;241m.\u001b[39murlopen(method, u\u001b[38;5;241m.\u001b[39mrequest_uri, \u001b[38;5;241m*\u001b[39m\u001b[38;5;241m*\u001b[39mkw)\n\u001b[0;32m    378\u001b[0m redirect_location \u001b[38;5;241m=\u001b[39m redirect \u001b[38;5;129;01mand\u001b[39;00m response\u001b[38;5;241m.\u001b[39mget_redirect_location()\n\u001b[0;32m    379\u001b[0m \u001b[38;5;28;01mif\u001b[39;00m \u001b[38;5;129;01mnot\u001b[39;00m redirect_location:\n",
      "File \u001b[1;32m~\\anaconda3\\Lib\\site-packages\\urllib3\\connectionpool.py:826\u001b[0m, in \u001b[0;36mHTTPConnectionPool.urlopen\u001b[1;34m(self, method, url, body, headers, retries, redirect, assert_same_host, timeout, pool_timeout, release_conn, chunked, body_pos, **response_kw)\u001b[0m\n\u001b[0;32m    821\u001b[0m \u001b[38;5;28;01mif\u001b[39;00m \u001b[38;5;129;01mnot\u001b[39;00m conn:\n\u001b[0;32m    822\u001b[0m     \u001b[38;5;66;03m# Try again\u001b[39;00m\n\u001b[0;32m    823\u001b[0m     log\u001b[38;5;241m.\u001b[39mwarning(\n\u001b[0;32m    824\u001b[0m         \u001b[38;5;124m\"\u001b[39m\u001b[38;5;124mRetrying (\u001b[39m\u001b[38;5;132;01m%r\u001b[39;00m\u001b[38;5;124m) after connection broken by \u001b[39m\u001b[38;5;124m'\u001b[39m\u001b[38;5;132;01m%r\u001b[39;00m\u001b[38;5;124m'\u001b[39m\u001b[38;5;124m: \u001b[39m\u001b[38;5;132;01m%s\u001b[39;00m\u001b[38;5;124m\"\u001b[39m, retries, err, url\n\u001b[0;32m    825\u001b[0m     )\n\u001b[1;32m--> 826\u001b[0m     \u001b[38;5;28;01mreturn\u001b[39;00m \u001b[38;5;28mself\u001b[39m\u001b[38;5;241m.\u001b[39murlopen(\n\u001b[0;32m    827\u001b[0m         method,\n\u001b[0;32m    828\u001b[0m         url,\n\u001b[0;32m    829\u001b[0m         body,\n\u001b[0;32m    830\u001b[0m         headers,\n\u001b[0;32m    831\u001b[0m         retries,\n\u001b[0;32m    832\u001b[0m         redirect,\n\u001b[0;32m    833\u001b[0m         assert_same_host,\n\u001b[0;32m    834\u001b[0m         timeout\u001b[38;5;241m=\u001b[39mtimeout,\n\u001b[0;32m    835\u001b[0m         pool_timeout\u001b[38;5;241m=\u001b[39mpool_timeout,\n\u001b[0;32m    836\u001b[0m         release_conn\u001b[38;5;241m=\u001b[39mrelease_conn,\n\u001b[0;32m    837\u001b[0m         chunked\u001b[38;5;241m=\u001b[39mchunked,\n\u001b[0;32m    838\u001b[0m         body_pos\u001b[38;5;241m=\u001b[39mbody_pos,\n\u001b[0;32m    839\u001b[0m         \u001b[38;5;241m*\u001b[39m\u001b[38;5;241m*\u001b[39mresponse_kw\n\u001b[0;32m    840\u001b[0m     )\n\u001b[0;32m    842\u001b[0m \u001b[38;5;66;03m# Handle redirect?\u001b[39;00m\n\u001b[0;32m    843\u001b[0m redirect_location \u001b[38;5;241m=\u001b[39m redirect \u001b[38;5;129;01mand\u001b[39;00m response\u001b[38;5;241m.\u001b[39mget_redirect_location()\n",
      "File \u001b[1;32m~\\anaconda3\\Lib\\site-packages\\urllib3\\connectionpool.py:826\u001b[0m, in \u001b[0;36mHTTPConnectionPool.urlopen\u001b[1;34m(self, method, url, body, headers, retries, redirect, assert_same_host, timeout, pool_timeout, release_conn, chunked, body_pos, **response_kw)\u001b[0m\n\u001b[0;32m    821\u001b[0m \u001b[38;5;28;01mif\u001b[39;00m \u001b[38;5;129;01mnot\u001b[39;00m conn:\n\u001b[0;32m    822\u001b[0m     \u001b[38;5;66;03m# Try again\u001b[39;00m\n\u001b[0;32m    823\u001b[0m     log\u001b[38;5;241m.\u001b[39mwarning(\n\u001b[0;32m    824\u001b[0m         \u001b[38;5;124m\"\u001b[39m\u001b[38;5;124mRetrying (\u001b[39m\u001b[38;5;132;01m%r\u001b[39;00m\u001b[38;5;124m) after connection broken by \u001b[39m\u001b[38;5;124m'\u001b[39m\u001b[38;5;132;01m%r\u001b[39;00m\u001b[38;5;124m'\u001b[39m\u001b[38;5;124m: \u001b[39m\u001b[38;5;132;01m%s\u001b[39;00m\u001b[38;5;124m\"\u001b[39m, retries, err, url\n\u001b[0;32m    825\u001b[0m     )\n\u001b[1;32m--> 826\u001b[0m     \u001b[38;5;28;01mreturn\u001b[39;00m \u001b[38;5;28mself\u001b[39m\u001b[38;5;241m.\u001b[39murlopen(\n\u001b[0;32m    827\u001b[0m         method,\n\u001b[0;32m    828\u001b[0m         url,\n\u001b[0;32m    829\u001b[0m         body,\n\u001b[0;32m    830\u001b[0m         headers,\n\u001b[0;32m    831\u001b[0m         retries,\n\u001b[0;32m    832\u001b[0m         redirect,\n\u001b[0;32m    833\u001b[0m         assert_same_host,\n\u001b[0;32m    834\u001b[0m         timeout\u001b[38;5;241m=\u001b[39mtimeout,\n\u001b[0;32m    835\u001b[0m         pool_timeout\u001b[38;5;241m=\u001b[39mpool_timeout,\n\u001b[0;32m    836\u001b[0m         release_conn\u001b[38;5;241m=\u001b[39mrelease_conn,\n\u001b[0;32m    837\u001b[0m         chunked\u001b[38;5;241m=\u001b[39mchunked,\n\u001b[0;32m    838\u001b[0m         body_pos\u001b[38;5;241m=\u001b[39mbody_pos,\n\u001b[0;32m    839\u001b[0m         \u001b[38;5;241m*\u001b[39m\u001b[38;5;241m*\u001b[39mresponse_kw\n\u001b[0;32m    840\u001b[0m     )\n\u001b[0;32m    842\u001b[0m \u001b[38;5;66;03m# Handle redirect?\u001b[39;00m\n\u001b[0;32m    843\u001b[0m redirect_location \u001b[38;5;241m=\u001b[39m redirect \u001b[38;5;129;01mand\u001b[39;00m response\u001b[38;5;241m.\u001b[39mget_redirect_location()\n",
      "File \u001b[1;32m~\\anaconda3\\Lib\\site-packages\\urllib3\\connectionpool.py:826\u001b[0m, in \u001b[0;36mHTTPConnectionPool.urlopen\u001b[1;34m(self, method, url, body, headers, retries, redirect, assert_same_host, timeout, pool_timeout, release_conn, chunked, body_pos, **response_kw)\u001b[0m\n\u001b[0;32m    821\u001b[0m \u001b[38;5;28;01mif\u001b[39;00m \u001b[38;5;129;01mnot\u001b[39;00m conn:\n\u001b[0;32m    822\u001b[0m     \u001b[38;5;66;03m# Try again\u001b[39;00m\n\u001b[0;32m    823\u001b[0m     log\u001b[38;5;241m.\u001b[39mwarning(\n\u001b[0;32m    824\u001b[0m         \u001b[38;5;124m\"\u001b[39m\u001b[38;5;124mRetrying (\u001b[39m\u001b[38;5;132;01m%r\u001b[39;00m\u001b[38;5;124m) after connection broken by \u001b[39m\u001b[38;5;124m'\u001b[39m\u001b[38;5;132;01m%r\u001b[39;00m\u001b[38;5;124m'\u001b[39m\u001b[38;5;124m: \u001b[39m\u001b[38;5;132;01m%s\u001b[39;00m\u001b[38;5;124m\"\u001b[39m, retries, err, url\n\u001b[0;32m    825\u001b[0m     )\n\u001b[1;32m--> 826\u001b[0m     \u001b[38;5;28;01mreturn\u001b[39;00m \u001b[38;5;28mself\u001b[39m\u001b[38;5;241m.\u001b[39murlopen(\n\u001b[0;32m    827\u001b[0m         method,\n\u001b[0;32m    828\u001b[0m         url,\n\u001b[0;32m    829\u001b[0m         body,\n\u001b[0;32m    830\u001b[0m         headers,\n\u001b[0;32m    831\u001b[0m         retries,\n\u001b[0;32m    832\u001b[0m         redirect,\n\u001b[0;32m    833\u001b[0m         assert_same_host,\n\u001b[0;32m    834\u001b[0m         timeout\u001b[38;5;241m=\u001b[39mtimeout,\n\u001b[0;32m    835\u001b[0m         pool_timeout\u001b[38;5;241m=\u001b[39mpool_timeout,\n\u001b[0;32m    836\u001b[0m         release_conn\u001b[38;5;241m=\u001b[39mrelease_conn,\n\u001b[0;32m    837\u001b[0m         chunked\u001b[38;5;241m=\u001b[39mchunked,\n\u001b[0;32m    838\u001b[0m         body_pos\u001b[38;5;241m=\u001b[39mbody_pos,\n\u001b[0;32m    839\u001b[0m         \u001b[38;5;241m*\u001b[39m\u001b[38;5;241m*\u001b[39mresponse_kw\n\u001b[0;32m    840\u001b[0m     )\n\u001b[0;32m    842\u001b[0m \u001b[38;5;66;03m# Handle redirect?\u001b[39;00m\n\u001b[0;32m    843\u001b[0m redirect_location \u001b[38;5;241m=\u001b[39m redirect \u001b[38;5;129;01mand\u001b[39;00m response\u001b[38;5;241m.\u001b[39mget_redirect_location()\n",
      "File \u001b[1;32m~\\anaconda3\\Lib\\site-packages\\urllib3\\connectionpool.py:798\u001b[0m, in \u001b[0;36mHTTPConnectionPool.urlopen\u001b[1;34m(self, method, url, body, headers, retries, redirect, assert_same_host, timeout, pool_timeout, release_conn, chunked, body_pos, **response_kw)\u001b[0m\n\u001b[0;32m    795\u001b[0m \u001b[38;5;28;01melif\u001b[39;00m \u001b[38;5;28misinstance\u001b[39m(e, (SocketError, HTTPException)):\n\u001b[0;32m    796\u001b[0m     e \u001b[38;5;241m=\u001b[39m ProtocolError(\u001b[38;5;124m\"\u001b[39m\u001b[38;5;124mConnection aborted.\u001b[39m\u001b[38;5;124m\"\u001b[39m, e)\n\u001b[1;32m--> 798\u001b[0m retries \u001b[38;5;241m=\u001b[39m retries\u001b[38;5;241m.\u001b[39mincrement(\n\u001b[0;32m    799\u001b[0m     method, url, error\u001b[38;5;241m=\u001b[39me, _pool\u001b[38;5;241m=\u001b[39m\u001b[38;5;28mself\u001b[39m, _stacktrace\u001b[38;5;241m=\u001b[39msys\u001b[38;5;241m.\u001b[39mexc_info()[\u001b[38;5;241m2\u001b[39m]\n\u001b[0;32m    800\u001b[0m )\n\u001b[0;32m    801\u001b[0m retries\u001b[38;5;241m.\u001b[39msleep()\n\u001b[0;32m    803\u001b[0m \u001b[38;5;66;03m# Keep track of the error for the retry warning.\u001b[39;00m\n",
      "File \u001b[1;32m~\\anaconda3\\Lib\\site-packages\\urllib3\\util\\retry.py:592\u001b[0m, in \u001b[0;36mRetry.increment\u001b[1;34m(self, method, url, response, error, _pool, _stacktrace)\u001b[0m\n\u001b[0;32m    581\u001b[0m new_retry \u001b[38;5;241m=\u001b[39m \u001b[38;5;28mself\u001b[39m\u001b[38;5;241m.\u001b[39mnew(\n\u001b[0;32m    582\u001b[0m     total\u001b[38;5;241m=\u001b[39mtotal,\n\u001b[0;32m    583\u001b[0m     connect\u001b[38;5;241m=\u001b[39mconnect,\n\u001b[1;32m   (...)\u001b[0m\n\u001b[0;32m    588\u001b[0m     history\u001b[38;5;241m=\u001b[39mhistory,\n\u001b[0;32m    589\u001b[0m )\n\u001b[0;32m    591\u001b[0m \u001b[38;5;28;01mif\u001b[39;00m new_retry\u001b[38;5;241m.\u001b[39mis_exhausted():\n\u001b[1;32m--> 592\u001b[0m     \u001b[38;5;28;01mraise\u001b[39;00m MaxRetryError(_pool, url, error \u001b[38;5;129;01mor\u001b[39;00m ResponseError(cause))\n\u001b[0;32m    594\u001b[0m log\u001b[38;5;241m.\u001b[39mdebug(\u001b[38;5;124m\"\u001b[39m\u001b[38;5;124mIncremented Retry for (url=\u001b[39m\u001b[38;5;124m'\u001b[39m\u001b[38;5;132;01m%s\u001b[39;00m\u001b[38;5;124m'\u001b[39m\u001b[38;5;124m): \u001b[39m\u001b[38;5;132;01m%r\u001b[39;00m\u001b[38;5;124m\"\u001b[39m, url, new_retry)\n\u001b[0;32m    596\u001b[0m \u001b[38;5;28;01mreturn\u001b[39;00m new_retry\n",
      "\u001b[1;31mMaxRetryError\u001b[0m: HTTPConnectionPool(host='localhost', port=51333): Max retries exceeded with url: /session/658d4cf1782f0c56304e824e6f99b4eb/element (Caused by NewConnectionError('<urllib3.connection.HTTPConnection object at 0x0000020ACF4A8990>: Failed to establish a new connection: [WinError 10061] No connection could be made because the target machine actively refused it'))"
     ]
    }
   ],
   "source": [
    "economy_link = WebDriverWait(driver, 10).until(\n",
    "    EC.presence_of_element_located((By.XPATH, \"//a[text()='Economy']\"))\n",
    ")"
   ]
  },
  {
   "cell_type": "code",
   "execution_count": 6,
   "id": "32330356",
   "metadata": {},
   "outputs": [
    {
     "ename": "SyntaxError",
     "evalue": "incomplete input (3516640458.py, line 18)",
     "output_type": "error",
     "traceback": [
      "\u001b[1;36m  Cell \u001b[1;32mIn[6], line 18\u001b[1;36m\u001b[0m\n\u001b[1;33m    # ... (closing the browser)\u001b[0m\n\u001b[1;37m                               ^\u001b[0m\n\u001b[1;31mSyntaxError\u001b[0m\u001b[1;31m:\u001b[0m incomplete input\n"
     ]
    }
   ],
   "source": [
    "try:\n",
    "    # ... (previous code)\n",
    "\n",
    "    # Wait for the \"Economy\" link to be present on the page\n",
    "    economy_link = WebDriverWait(driver, 10).until(\n",
    "        EC.presence_of_element_located((By.LINK_TEXT, \"Economy\"))\n",
    "    )\n",
    "\n",
    "    # Debug: Print the page source\n",
    "    print(driver.page_source)\n",
    "\n",
    "    # ... (remaining code)\n",
    "\n",
    "except Exception as e:\n",
    "    print(f\"An error occurred: {e}\")\n",
    "\n",
    "finally:\n",
    "    # ... (closing the browser)\n"
   ]
  },
  {
   "cell_type": "code",
   "execution_count": 7,
   "id": "2984728b",
   "metadata": {},
   "outputs": [
    {
     "ename": "AttributeError",
     "evalue": "'WebDriver' object has no attribute 'find_element_by_link_text'",
     "output_type": "error",
     "traceback": [
      "\u001b[1;31m---------------------------------------------------------------------------\u001b[0m",
      "\u001b[1;31mAttributeError\u001b[0m                            Traceback (most recent call last)",
      "Cell \u001b[1;32mIn[7], line 24\u001b[0m\n\u001b[0;32m     22\u001b[0m \u001b[38;5;28;01mtry\u001b[39;00m:\n\u001b[0;32m     23\u001b[0m     driver\u001b[38;5;241m.\u001b[39mget(url)\n\u001b[1;32m---> 24\u001b[0m     economy_link \u001b[38;5;241m=\u001b[39m driver\u001b[38;5;241m.\u001b[39mfind_element_by_link_text(\u001b[38;5;124m\"\u001b[39m\u001b[38;5;124mEconomy\u001b[39m\u001b[38;5;124m\"\u001b[39m)\n\u001b[0;32m     25\u001b[0m     economy_link\u001b[38;5;241m.\u001b[39mclick()\n\u001b[0;32m     26\u001b[0m     india_link \u001b[38;5;241m=\u001b[39m driver\u001b[38;5;241m.\u001b[39mfind_element_by_link_text(\u001b[38;5;124m\"\u001b[39m\u001b[38;5;124mIndia\u001b[39m\u001b[38;5;124m\"\u001b[39m)\n",
      "\u001b[1;31mAttributeError\u001b[0m: 'WebDriver' object has no attribute 'find_element_by_link_text'"
     ]
    }
   ],
   "source": [
    "# Import the required modules\n",
    "from selenium import webdriver\n",
    "from selenium.common.exceptions import NoSuchElementException, TimeoutException, WebDriverException\n",
    "from selenium.webdriver.common.by import By\n",
    "from selenium.webdriver.support.ui import WebDriverWait\n",
    "from selenium.webdriver.support import expected_conditions as EC\n",
    "\n",
    "# Define the URL of the website and the columns to scrape\n",
    "url = \"http://statisticstimes.com/\"\n",
    "columns = [\"Rank\", \"State\", \"GSDP(18-19)\", \"GSDP(19-20)\", \"Share(18-19)\", \"GDP($ billion)\"]\n",
    "\n",
    "# Create a Chrome driver instance\n",
    "driver = webdriver.Chrome()\n",
    "\n",
    "# Define a function to handle exceptions\n",
    "def handle_exception(e):\n",
    "    print(f\"An exception occurred: {e}\")\n",
    "    driver.quit()\n",
    "    exit()\n",
    "\n",
    "# Try to open the website and navigate to the economy page\n",
    "try:\n",
    "    driver.get(url)\n",
    "    economy_link = driver.find_element_by_link_text(\"Economy\")\n",
    "    economy_link.click()\n",
    "    india_link = driver.find_element_by_link_text(\"India\")\n",
    "    india_link.click()\n",
    "except (NoSuchElementException, TimeoutException, WebDriverException) as e:\n",
    "    handle_exception(e)\n",
    "\n",
    "# Try to find the table that contains the state-wise GDP data\n",
    "try:\n",
    "    table = WebDriverWait(driver, 10).until(\n",
    "        EC.presence_of_element_located((By.ID, \"table_id\"))\n",
    "    )\n",
    "except (NoSuchElementException, TimeoutException, WebDriverException) as e:\n",
    "    handle_exception(e)\n",
    "\n",
    "# Try to extract the data from the table\n",
    "try:\n",
    "    # Get the table header and find the indices of the required columns\n",
    "    header = table.find_element_by_tag_name(\"thead\")\n",
    "    header_cells = header.find_elements_by_tag_name(\"th\")\n",
    "    column_indices = [header_cells.index(cell) for cell in header_cells if cell.text in columns]\n",
    "\n",
    "    # Get the table body and loop through the rows\n",
    "    body = table.find_element_by_tag_name(\"tbody\")\n",
    "    rows = body.find_elements_by_tag_name(\"tr\")\n",
    "    data = [] # A list to store the scraped data\n",
    "    for row in rows:\n",
    "        # Get the cells in the row and extract the text from the required columns\n",
    "        cells = row.find_elements_by_tag_name(\"td\")\n",
    "        row_data = {columns[i]: cells[j].text for i, j in enumerate(column_indices)}\n",
    "        # Append the row data to the data list\n",
    "        data.append(row_data)\n",
    "\n",
    "    # Print the data list\n",
    "    print(data)\n",
    "except (NoSuchElementException, TimeoutException, WebDriverException) as e:\n",
    "    handle_exception(e)\n",
    "\n",
    "# Close the driver\n",
    "driver.quit()\n"
   ]
  },
  {
   "cell_type": "code",
   "execution_count": 9,
   "id": "a64f04c5",
   "metadata": {},
   "outputs": [
    {
     "name": "stdout",
     "output_type": "stream",
     "text": [
      "Collecting selenium==4.2.0Note: you may need to restart the kernel to use updated packages.\n",
      "\n",
      "  Downloading selenium-4.2.0-py3-none-any.whl (983 kB)\n",
      "     ---------------------------------------- 0.0/983.2 kB ? eta -:--:--\n",
      "     ------ ------------------------------- 174.1/983.2 kB 5.3 MB/s eta 0:00:01\n",
      "     ------------- ------------------------ 358.4/983.2 kB 3.7 MB/s eta 0:00:01\n",
      "     ------------------------ ------------- 624.6/983.2 kB 4.4 MB/s eta 0:00:01\n",
      "     -------------------------------------  983.0/983.2 kB 4.8 MB/s eta 0:00:01\n",
      "     -------------------------------------  983.0/983.2 kB 4.8 MB/s eta 0:00:01\n",
      "     -------------------------------------  983.0/983.2 kB 4.8 MB/s eta 0:00:01\n",
      "     -------------------------------------- 983.2/983.2 kB 3.0 MB/s eta 0:00:00\n",
      "Requirement already satisfied: urllib3[secure,socks]~=1.26 in c:\\users\\aman9\\anaconda3\\lib\\site-packages (from selenium==4.2.0) (1.26.16)\n",
      "Requirement already satisfied: trio~=0.17 in c:\\users\\aman9\\anaconda3\\lib\\site-packages (from selenium==4.2.0) (0.23.1)\n",
      "Requirement already satisfied: trio-websocket~=0.9 in c:\\users\\aman9\\anaconda3\\lib\\site-packages (from selenium==4.2.0) (0.11.1)\n",
      "Requirement already satisfied: attrs>=20.1.0 in c:\\users\\aman9\\anaconda3\\lib\\site-packages (from trio~=0.17->selenium==4.2.0) (22.1.0)\n",
      "Requirement already satisfied: sortedcontainers in c:\\users\\aman9\\anaconda3\\lib\\site-packages (from trio~=0.17->selenium==4.2.0) (2.4.0)\n",
      "Requirement already satisfied: idna in c:\\users\\aman9\\anaconda3\\lib\\site-packages (from trio~=0.17->selenium==4.2.0) (3.4)\n",
      "Requirement already satisfied: outcome in c:\\users\\aman9\\anaconda3\\lib\\site-packages (from trio~=0.17->selenium==4.2.0) (1.3.0.post0)\n",
      "Requirement already satisfied: sniffio>=1.3.0 in c:\\users\\aman9\\anaconda3\\lib\\site-packages (from trio~=0.17->selenium==4.2.0) (1.3.0)\n",
      "Requirement already satisfied: cffi>=1.14 in c:\\users\\aman9\\anaconda3\\lib\\site-packages (from trio~=0.17->selenium==4.2.0) (1.15.1)\n",
      "Requirement already satisfied: wsproto>=0.14 in c:\\users\\aman9\\anaconda3\\lib\\site-packages (from trio-websocket~=0.9->selenium==4.2.0) (1.2.0)\n",
      "Requirement already satisfied: pyOpenSSL>=0.14 in c:\\users\\aman9\\anaconda3\\lib\\site-packages (from urllib3[secure,socks]~=1.26->selenium==4.2.0) (23.2.0)\n",
      "Requirement already satisfied: cryptography>=1.3.4 in c:\\users\\aman9\\anaconda3\\lib\\site-packages (from urllib3[secure,socks]~=1.26->selenium==4.2.0) (41.0.3)\n",
      "Requirement already satisfied: certifi in c:\\users\\aman9\\anaconda3\\lib\\site-packages (from urllib3[secure,socks]~=1.26->selenium==4.2.0) (2023.7.22)\n",
      "Collecting urllib3-secure-extra (from urllib3[secure,socks]~=1.26->selenium==4.2.0)\n",
      "  Downloading urllib3_secure_extra-0.1.0-py2.py3-none-any.whl (1.4 kB)\n",
      "Requirement already satisfied: PySocks!=1.5.7,<2.0,>=1.5.6 in c:\\users\\aman9\\anaconda3\\lib\\site-packages (from urllib3[secure,socks]~=1.26->selenium==4.2.0) (1.7.1)\n",
      "Requirement already satisfied: pycparser in c:\\users\\aman9\\anaconda3\\lib\\site-packages (from cffi>=1.14->trio~=0.17->selenium==4.2.0) (2.21)\n",
      "Requirement already satisfied: h11<1,>=0.9.0 in c:\\users\\aman9\\anaconda3\\lib\\site-packages (from wsproto>=0.14->trio-websocket~=0.9->selenium==4.2.0) (0.14.0)\n",
      "Installing collected packages: urllib3-secure-extra, selenium\n",
      "  Attempting uninstall: selenium\n",
      "    Found existing installation: selenium 4.16.0\n",
      "    Uninstalling selenium-4.16.0:\n",
      "      Successfully uninstalled selenium-4.16.0\n",
      "Successfully installed selenium-4.2.0 urllib3-secure-extra-0.1.0\n"
     ]
    }
   ],
   "source": [
    "pip install selenium==4.2.0\n"
   ]
  },
  {
   "cell_type": "code",
   "execution_count": 12,
   "id": "b7d504f8",
   "metadata": {},
   "outputs": [
    {
     "ename": "NoSuchDriverException",
     "evalue": "Message: Unable to obtain driver for chrome using Selenium Manager.; For documentation on this error, please visit: https://www.selenium.dev/documentation/webdriver/troubleshooting/errors/driver_location\n",
     "output_type": "error",
     "traceback": [
      "\u001b[1;31m---------------------------------------------------------------------------\u001b[0m",
      "\u001b[1;31mWebDriverException\u001b[0m                        Traceback (most recent call last)",
      "File \u001b[1;32m~\\anaconda3\\Lib\\site-packages\\selenium\\webdriver\\common\\driver_finder.py:38\u001b[0m, in \u001b[0;36mget_path\u001b[1;34m(service, options)\u001b[0m\n",
      "File \u001b[1;32m~\\anaconda3\\Lib\\site-packages\\selenium\\webdriver\\common\\selenium_manager.py:86\u001b[0m, in \u001b[0;36mdriver_location\u001b[1;34m(self, options)\u001b[0m\n",
      "File \u001b[1;32m~\\anaconda3\\Lib\\site-packages\\selenium\\webdriver\\common\\selenium_manager.py:70\u001b[0m, in \u001b[0;36mget_binary\u001b[1;34m()\u001b[0m\n",
      "\u001b[1;31mWebDriverException\u001b[0m: Message: Unable to obtain working Selenium Manager binary; C:\\Users\\aman9\\anaconda3\\Lib\\site-packages\\selenium\\webdriver\\common\\windows\\selenium-manager.exe\n",
      "\nThe above exception was the direct cause of the following exception:\n",
      "\u001b[1;31mNoSuchDriverException\u001b[0m                     Traceback (most recent call last)",
      "Cell \u001b[1;32mIn[12], line 13\u001b[0m\n\u001b[0;32m     10\u001b[0m columns \u001b[38;5;241m=\u001b[39m [\u001b[38;5;124m\"\u001b[39m\u001b[38;5;124mRank\u001b[39m\u001b[38;5;124m\"\u001b[39m, \u001b[38;5;124m\"\u001b[39m\u001b[38;5;124mState\u001b[39m\u001b[38;5;124m\"\u001b[39m, \u001b[38;5;124m\"\u001b[39m\u001b[38;5;124mGSDP(18-19)\u001b[39m\u001b[38;5;124m\"\u001b[39m, \u001b[38;5;124m\"\u001b[39m\u001b[38;5;124mGSDP(19-20)\u001b[39m\u001b[38;5;124m\"\u001b[39m, \u001b[38;5;124m\"\u001b[39m\u001b[38;5;124mShare(18-19)\u001b[39m\u001b[38;5;124m\"\u001b[39m, \u001b[38;5;124m\"\u001b[39m\u001b[38;5;124mGDP($ billion)\u001b[39m\u001b[38;5;124m\"\u001b[39m]\n\u001b[0;32m     12\u001b[0m \u001b[38;5;66;03m# Create a Chrome driver instance\u001b[39;00m\n\u001b[1;32m---> 13\u001b[0m driver \u001b[38;5;241m=\u001b[39m webdriver\u001b[38;5;241m.\u001b[39mChrome()\n\u001b[0;32m     15\u001b[0m \u001b[38;5;66;03m# Define a function to handle exceptions\u001b[39;00m\n\u001b[0;32m     16\u001b[0m \u001b[38;5;28;01mdef\u001b[39;00m \u001b[38;5;21mhandle_exception\u001b[39m(e):\n",
      "File \u001b[1;32m~\\anaconda3\\Lib\\site-packages\\selenium\\webdriver\\chrome\\webdriver.py:45\u001b[0m, in \u001b[0;36m__init__\u001b[1;34m(self, options, service, keep_alive)\u001b[0m\n\u001b[0;32m     36\u001b[0m \u001b[38;5;28;01mdef\u001b[39;00m \u001b[38;5;21m__init__\u001b[39m(\u001b[38;5;28mself\u001b[39m, executable_path\u001b[38;5;241m=\u001b[39mDEFAULT_EXECUTABLE_PATH, port\u001b[38;5;241m=\u001b[39mDEFAULT_PORT,\n\u001b[0;32m     37\u001b[0m              options: Options \u001b[38;5;241m=\u001b[39m \u001b[38;5;28;01mNone\u001b[39;00m, service_args\u001b[38;5;241m=\u001b[39m\u001b[38;5;28;01mNone\u001b[39;00m,\n\u001b[0;32m     38\u001b[0m              desired_capabilities\u001b[38;5;241m=\u001b[39m\u001b[38;5;28;01mNone\u001b[39;00m, service_log_path\u001b[38;5;241m=\u001b[39mDEFAULT_SERVICE_LOG_PATH,\n\u001b[0;32m     39\u001b[0m              chrome_options\u001b[38;5;241m=\u001b[39m\u001b[38;5;28;01mNone\u001b[39;00m, service: Service \u001b[38;5;241m=\u001b[39m \u001b[38;5;28;01mNone\u001b[39;00m, keep_alive\u001b[38;5;241m=\u001b[39mDEFAULT_KEEP_ALIVE):\n\u001b[0;32m     40\u001b[0m \u001b[38;5;250m    \u001b[39m\u001b[38;5;124;03m\"\"\"\u001b[39;00m\n\u001b[0;32m     41\u001b[0m \u001b[38;5;124;03m    Creates a new instance of the chrome driver.\u001b[39;00m\n\u001b[0;32m     42\u001b[0m \u001b[38;5;124;03m    Starts the service and then creates new instance of chrome driver.\u001b[39;00m\n\u001b[0;32m     43\u001b[0m \n\u001b[0;32m     44\u001b[0m \u001b[38;5;124;03m    :Args:\u001b[39;00m\n\u001b[1;32m---> 45\u001b[0m \u001b[38;5;124;03m     - executable_path - Deprecated: path to the executable. If the default is used it assumes the executable is in the $PATH\u001b[39;00m\n\u001b[0;32m     46\u001b[0m \u001b[38;5;124;03m     - port - Deprecated: port you would like the service to run, if left as 0, a free port will be found.\u001b[39;00m\n\u001b[0;32m     47\u001b[0m \u001b[38;5;124;03m     - options - this takes an instance of ChromeOptions\u001b[39;00m\n\u001b[0;32m     48\u001b[0m \u001b[38;5;124;03m     - service - Service object for handling the browser driver if you need to pass extra details\u001b[39;00m\n\u001b[0;32m     49\u001b[0m \u001b[38;5;124;03m     - service_args - Deprecated: List of args to pass to the driver service\u001b[39;00m\n\u001b[0;32m     50\u001b[0m \u001b[38;5;124;03m     - desired_capabilities - Deprecated: Dictionary object with non-browser specific\u001b[39;00m\n\u001b[0;32m     51\u001b[0m \u001b[38;5;124;03m       capabilities only, such as \"proxy\" or \"loggingPref\".\u001b[39;00m\n\u001b[0;32m     52\u001b[0m \u001b[38;5;124;03m     - service_log_path - Deprecated: Where to log information from the driver.\u001b[39;00m\n\u001b[0;32m     53\u001b[0m \u001b[38;5;124;03m     - keep_alive - Deprecated: Whether to configure ChromeRemoteConnection to use HTTP keep-alive.\u001b[39;00m\n\u001b[0;32m     54\u001b[0m \u001b[38;5;124;03m    \"\"\"\u001b[39;00m\n\u001b[0;32m     55\u001b[0m     \u001b[38;5;28;01mif\u001b[39;00m executable_path \u001b[38;5;241m!=\u001b[39m \u001b[38;5;124m'\u001b[39m\u001b[38;5;124mchromedriver\u001b[39m\u001b[38;5;124m'\u001b[39m:\n\u001b[0;32m     56\u001b[0m         warnings\u001b[38;5;241m.\u001b[39mwarn(\u001b[38;5;124m'\u001b[39m\u001b[38;5;124mexecutable_path has been deprecated, please pass in a Service object\u001b[39m\u001b[38;5;124m'\u001b[39m,\n\u001b[0;32m     57\u001b[0m                       \u001b[38;5;167;01mDeprecationWarning\u001b[39;00m, stacklevel\u001b[38;5;241m=\u001b[39m\u001b[38;5;241m2\u001b[39m)\n",
      "File \u001b[1;32m~\\anaconda3\\Lib\\site-packages\\selenium\\webdriver\\chromium\\webdriver.py:49\u001b[0m, in \u001b[0;36m__init__\u001b[1;34m(self, browser_name, vendor_prefix, options, service, keep_alive)\u001b[0m\n\u001b[0;32m     37\u001b[0m \u001b[38;5;28;01mdef\u001b[39;00m \u001b[38;5;21m__init__\u001b[39m(\u001b[38;5;28mself\u001b[39m, browser_name, vendor_prefix,\n\u001b[0;32m     38\u001b[0m              port\u001b[38;5;241m=\u001b[39mDEFAULT_PORT, options: BaseOptions \u001b[38;5;241m=\u001b[39m \u001b[38;5;28;01mNone\u001b[39;00m, service_args\u001b[38;5;241m=\u001b[39m\u001b[38;5;28;01mNone\u001b[39;00m,\n\u001b[0;32m     39\u001b[0m              desired_capabilities\u001b[38;5;241m=\u001b[39m\u001b[38;5;28;01mNone\u001b[39;00m, service_log_path\u001b[38;5;241m=\u001b[39mDEFAULT_SERVICE_LOG_PATH,\n\u001b[0;32m     40\u001b[0m              service: Service \u001b[38;5;241m=\u001b[39m \u001b[38;5;28;01mNone\u001b[39;00m, keep_alive\u001b[38;5;241m=\u001b[39mDEFAULT_KEEP_ALIVE):\n\u001b[0;32m     41\u001b[0m \u001b[38;5;250m    \u001b[39m\u001b[38;5;124;03m\"\"\"\u001b[39;00m\n\u001b[0;32m     42\u001b[0m \u001b[38;5;124;03m    Creates a new WebDriver instance of the ChromiumDriver.\u001b[39;00m\n\u001b[0;32m     43\u001b[0m \u001b[38;5;124;03m    Starts the service and then creates new WebDriver instance of ChromiumDriver.\u001b[39;00m\n\u001b[0;32m     44\u001b[0m \n\u001b[0;32m     45\u001b[0m \u001b[38;5;124;03m    :Args:\u001b[39;00m\n\u001b[0;32m     46\u001b[0m \u001b[38;5;124;03m     - browser_name - Browser name used when matching capabilities.\u001b[39;00m\n\u001b[0;32m     47\u001b[0m \u001b[38;5;124;03m     - vendor_prefix - Company prefix to apply to vendor-specific WebDriver extension commands.\u001b[39;00m\n\u001b[0;32m     48\u001b[0m \u001b[38;5;124;03m     - port - Deprecated: port you would like the service to run, if left as 0, a free port will be found.\u001b[39;00m\n\u001b[1;32m---> 49\u001b[0m \u001b[38;5;124;03m     - options - this takes an instance of ChromiumOptions\u001b[39;00m\n\u001b[0;32m     50\u001b[0m \u001b[38;5;124;03m     - service_args - Deprecated: List of args to pass to the driver service\u001b[39;00m\n\u001b[0;32m     51\u001b[0m \u001b[38;5;124;03m     - desired_capabilities - Deprecated: Dictionary object with non-browser specific\u001b[39;00m\n\u001b[0;32m     52\u001b[0m \u001b[38;5;124;03m       capabilities only, such as \"proxy\" or \"loggingPref\".\u001b[39;00m\n\u001b[0;32m     53\u001b[0m \u001b[38;5;124;03m     - service_log_path - Deprecated: Where to log information from the driver.\u001b[39;00m\n\u001b[0;32m     54\u001b[0m \u001b[38;5;124;03m     - keep_alive - Deprecated: Whether to configure ChromiumRemoteConnection to use HTTP keep-alive.\u001b[39;00m\n\u001b[0;32m     55\u001b[0m \u001b[38;5;124;03m    \"\"\"\u001b[39;00m\n\u001b[0;32m     56\u001b[0m     \u001b[38;5;28;01mif\u001b[39;00m desired_capabilities:\n\u001b[0;32m     57\u001b[0m         warnings\u001b[38;5;241m.\u001b[39mwarn(\u001b[38;5;124m'\u001b[39m\u001b[38;5;124mdesired_capabilities has been deprecated, please pass in a Service object\u001b[39m\u001b[38;5;124m'\u001b[39m,\n\u001b[0;32m     58\u001b[0m                       \u001b[38;5;167;01mDeprecationWarning\u001b[39;00m, stacklevel\u001b[38;5;241m=\u001b[39m\u001b[38;5;241m2\u001b[39m)\n",
      "File \u001b[1;32m~\\anaconda3\\Lib\\site-packages\\selenium\\webdriver\\common\\driver_finder.py:41\u001b[0m, in \u001b[0;36mget_path\u001b[1;34m(service, options)\u001b[0m\n",
      "\u001b[1;31mNoSuchDriverException\u001b[0m: Message: Unable to obtain driver for chrome using Selenium Manager.; For documentation on this error, please visit: https://www.selenium.dev/documentation/webdriver/troubleshooting/errors/driver_location\n"
     ]
    }
   ],
   "source": [
    "# Import the required modules\n",
    "from selenium import webdriver\n",
    "from selenium.common.exceptions import NoSuchElementException, TimeoutException, WebDriverException\n",
    "from selenium.webdriver.common.by import By\n",
    "from selenium.webdriver.support.ui import WebDriverWait\n",
    "from selenium.webdriver.support import expected_conditions as EC\n",
    "\n",
    "# Define the URL of the website and the columns to scrape\n",
    "url = \"http://statisticstimes.com/\"\n",
    "columns = [\"Rank\", \"State\", \"GSDP(18-19)\", \"GSDP(19-20)\", \"Share(18-19)\", \"GDP($ billion)\"]\n",
    "\n",
    "# Create a Chrome driver instance\n",
    "driver = webdriver.Chrome()\n",
    "\n",
    "# Define a function to handle exceptions\n",
    "def handle_exception(e):\n",
    "    print(f\"An exception occurred: {e}\")\n",
    "    driver.quit()\n",
    "    exit()\n",
    "\n",
    "# Try to open the website and navigate to the economy page\n",
    "try:\n",
    "    driver.get(url)\n",
    "    economy_link = driver.find_element_by_link_text(\"Economy\")\n",
    "    economy_link.click()\n",
    "    india_link = driver.find_element_by_link_text(\"India\")\n",
    "    india_link.click()\n",
    "except (NoSuchElementException, TimeoutException, WebDriverException) as e:\n",
    "    handle_exception(e)\n",
    "\n",
    "# Try to find the table that contains the state-wise GDP data\n",
    "try:\n",
    "    table = WebDriverWait(driver, 10).until(\n",
    "        EC.presence_of_element_located((By.ID, \"table_id\"))\n",
    "    )\n",
    "except (NoSuchElementException, TimeoutException, WebDriverException) as e:\n",
    "    handle_exception(e)\n",
    "\n",
    "# Try to extract the data from the table\n",
    "try:\n",
    "    # Get the table header and find the indices of the required columns\n",
    "    header = table.find_element_by_tag_name(\"thead\")\n",
    "    header_cells = header.find_elements_by_tag_name(\"th\")\n",
    "    column_indices = [header_cells.index(cell) for cell in header_cells if cell.text in columns]\n",
    "\n",
    "    # Get the table body and loop through the rows\n",
    "    body = table.find_element_by_tag_name(\"tbody\")\n",
    "    rows = body.find_elements_by_tag_name(\"tr\")\n",
    "    data = [] # A list to store the scraped data\n",
    "    for row in rows:\n",
    "        # Get the cells in the row and extract the text from the required columns\n",
    "        cells = row.find_elements_by_tag_name(\"td\")\n",
    "        row_data = {columns[i]: cells[j].text for i, j in enumerate(column_indices)}\n",
    "        # Append the row data to the data list\n",
    "        data.append(row_data)\n",
    "\n",
    "    # Print the data list\n",
    "    print(data)\n",
    "except (NoSuchElementException, TimeoutException, WebDriverException) as e:\n",
    "    handle_exception(e)\n",
    "\n",
    "# Close the driver\n",
    "driver.quit()\n"
   ]
  },
  {
   "cell_type": "code",
   "execution_count": null,
   "id": "01c2a940",
   "metadata": {},
   "outputs": [],
   "source": []
  }
 ],
 "metadata": {
  "kernelspec": {
   "display_name": "Python 3 (ipykernel)",
   "language": "python",
   "name": "python3"
  },
  "language_info": {
   "codemirror_mode": {
    "name": "ipython",
    "version": 3
   },
   "file_extension": ".py",
   "mimetype": "text/x-python",
   "name": "python",
   "nbconvert_exporter": "python",
   "pygments_lexer": "ipython3",
   "version": "3.11.5"
  }
 },
 "nbformat": 4,
 "nbformat_minor": 5
}
